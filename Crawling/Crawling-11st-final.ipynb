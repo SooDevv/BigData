{
 "cells": [
  {
   "cell_type": "markdown",
   "metadata": {},
   "source": [
    "### Crawling list\n",
    "- link\n",
    "- img\n",
    "- brand \n",
    "- origin\n",
    "- title\n",
    "- type\n",
    "- price\n",
    "- rating (integer) \n",
    "- optionTitle\n",
    "- optionPrice (integer)\n",
    "- replyConunt\n",
    "- replyResult"
   ]
  },
  {
   "cell_type": "code",
   "execution_count": 875,
   "metadata": {},
   "outputs": [],
   "source": [
    "from selenium import webdriver as wd\n",
    "from bs4 import BeautifulSoup as bs\n",
    "from selenium.webdriver.support.ui import WebDriverWait\n",
    "from selenium.webdriver.support import expected_conditions as EC\n",
    "from selenium.common.exceptions import NoSuchElementException, NoSuchFrameException\n",
    "from selenium.common.exceptions import TimeoutException\n",
    "import requests\n",
    "import time\n",
    "time.sleep(1)\n",
    "# 드라이버 로드"
   ]
  },
  {
   "cell_type": "code",
   "execution_count": 509,
   "metadata": {},
   "outputs": [],
   "source": [
    "driver = wd.Chrome(executable_path='chromedriver.exe')"
   ]
  },
  {
   "cell_type": "code",
   "execution_count": 28,
   "metadata": {},
   "outputs": [],
   "source": [
    "headers = {\n",
    "    'user-agent':'Mozilla/5.0 (Windows NT 10.0; Win64; x64) AppleWebKit/537.36 (KHTML, like Gecko) Chrome/68.0.3440.106 Safari/537.36',    \n",
    "    'accept-encoding':'false'\n",
    "}"
   ]
  },
  {
   "cell_type": "code",
   "execution_count": 3,
   "metadata": {},
   "outputs": [],
   "source": [
    "def getUrl(seed):\n",
    "    driver.get(seed)\n",
    "    html = bs(driver.page_source, 'lxml')\n",
    "    links = driver.find_elements_by_css_selector('.pub_photo a')\n",
    "    return [link.get_attribute('href') for link in links if link.get_attribute('href')]"
   ]
  },
  {
   "cell_type": "markdown",
   "metadata": {},
   "source": [
    "### 분유"
   ]
  },
  {
   "cell_type": "code",
   "execution_count": 514,
   "metadata": {},
   "outputs": [],
   "source": [
    "seed_milkPowder = 'http://www.11st.co.kr/browsing/BestSeller.tmall?method=getBestSellerMain&dispCtgrNo=1001345'"
   ]
  },
  {
   "cell_type": "code",
   "execution_count": 522,
   "metadata": {},
   "outputs": [
    {
     "data": {
      "text/plain": [
       "100"
      ]
     },
     "execution_count": 522,
     "metadata": {},
     "output_type": "execute_result"
    }
   ],
   "source": [
    "# requset 형식\n",
    "link = getUrl(seed_milkPowder)\n",
    "len(link)"
   ]
  },
  {
   "cell_type": "code",
   "execution_count": 913,
   "metadata": {},
   "outputs": [],
   "source": [
    "def getInfo_milkPowder(url):\n",
    "\n",
    "    driver.get(url)\n",
    "    bs(driver.page_source, 'lxml')\n",
    "    \n",
    "    # crawling list \n",
    "    link = url\n",
    "    img = driver.find_element_by_css_selector('#thumb img').get_attribute('src')\n",
    "    brand = getBrand()\n",
    "    title = driver.find_element_by_css_selector('.heading').text\n",
    "    origin = getOrigin(title)\n",
    "    type_ = '액상' if '액상' in title else '분말'\n",
    "    prices = getPrice()\n",
    "    rating = getRating()\n",
    "    # option\n",
    "    op_t, op_p = getOption()\n",
    "    replyCount = getReplyCount()\n",
    "    replyResult = getReplyResult()\n",
    "    \n",
    "    result = {\n",
    "        'link':link,\n",
    "        'img':img,\n",
    "        'brand':brand,\n",
    "        'title':title,\n",
    "        'origin':origin,\n",
    "        'type':type_,\n",
    "        'price':prices,\n",
    "        'rating':rating,\n",
    "        'optionTitle':op_t,\n",
    "        'optionPrice':op_p,\n",
    "        'replyCount':replyCount,\n",
    "        'replyResult':replyResult\n",
    "    }    \n",
    "    return result"
   ]
  },
  {
   "cell_type": "code",
   "execution_count": 914,
   "metadata": {},
   "outputs": [],
   "source": [
    "def getBrand():\n",
    "    try:\n",
    "        brand = ''\n",
    "        temp = driver.find_elements_by_css_selector('.prdc_detail_table tr')\n",
    "        for i in range(len(temp)):\n",
    "            if '브랜드' in temp[i].text:\n",
    "                brand = temp[i].text.replace('브랜드 ', '')\n",
    "                break\n",
    "    except UnboundLocalError:\n",
    "        None\n",
    "    \n",
    "    return brand"
   ]
  },
  {
   "cell_type": "code",
   "execution_count": 716,
   "metadata": {},
   "outputs": [],
   "source": [
    "def getOrigin(title):\n",
    "    for i in range(len(domestic)):\n",
    "        origin = '국내' if domestic[i] in title else '해외'\n",
    "    return origin"
   ]
  },
  {
   "cell_type": "code",
   "execution_count": 858,
   "metadata": {},
   "outputs": [],
   "source": [
    "def getRating():\n",
    "    try:\n",
    "        rating = driver.find_element_by_css_selector('.selr_wrap strong').text\n",
    "#         rating = int(r.replace('.',''))\n",
    "    except NoSuchElementException:\n",
    "        rating = 'rating 몰라'\n",
    "    return rating"
   ]
  },
  {
   "cell_type": "code",
   "execution_count": 454,
   "metadata": {},
   "outputs": [],
   "source": [
    "replyCount = 0\n",
    "def getReplyCount():\n",
    "    try:\n",
    "        cnt = driver.find_element_by_css_selector('.notice_count').text\n",
    "        replyCount = int(cnt[1:-1].replace(',',''))\n",
    "    except NoSuchElementException:\n",
    "        replyCount = 9999\n",
    "    return replyCount"
   ]
  },
  {
   "cell_type": "code",
   "execution_count": 916,
   "metadata": {},
   "outputs": [],
   "source": [
    "def getPrice():\n",
    "    try:\n",
    "        p = driver.find_element_by_css_selector('.sale_price')\n",
    "        p = p.text\n",
    "#         p = int(p.text.replace(',',''))\n",
    "    \n",
    "    except NoSuchElementException:\n",
    "        p = 'price 몰라'\n",
    "    except ValueError:\n",
    "            p = int(p.text)\n",
    "        \n",
    "    return p"
   ]
  },
  {
   "cell_type": "code",
   "execution_count": 934,
   "metadata": {},
   "outputs": [],
   "source": [
    "option_title = []\n",
    "option_price =[]\n",
    "def getOption():\n",
    "    try:\n",
    "        driver.find_element_by_css_selector('.option_select_box').click()\n",
    "\n",
    "        options_title = driver.find_elements_by_css_selector('.op_list li .title')\n",
    "        global option_title\n",
    "        for title in options_title:\n",
    "            if title.text is not '':\n",
    "                option_title.append(title.text)\n",
    "\n",
    "        options_price = driver.find_elements_by_css_selector('.op_list li .prdc_price em')\n",
    "        global option_price\n",
    "        for price in options_price:\n",
    "            price = price.text\n",
    "            if price is not '':\n",
    "                option_price.append(price)\n",
    "\n",
    "    except NoSuchElementException:\n",
    "        None\n",
    "    except UnboundLocalError:\n",
    "        None\n",
    "    except ValueError:\n",
    "        None\n",
    "        \n",
    "    return option_title, option_price "
   ]
  },
  {
   "cell_type": "markdown",
   "metadata": {},
   "source": [
    "---"
   ]
  },
  {
   "cell_type": "markdown",
   "metadata": {},
   "source": [
    "### Insert data into mongoDB"
   ]
  },
  {
   "cell_type": "code",
   "execution_count": 866,
   "metadata": {},
   "outputs": [],
   "source": [
    "from pymongo import MongoClient\n",
    "client = MongoClient('localhost', 27017)"
   ]
  },
  {
   "cell_type": "code",
   "execution_count": 867,
   "metadata": {},
   "outputs": [],
   "source": [
    "elevenst_db = client.get_database('elevenst_db')"
   ]
  },
  {
   "cell_type": "code",
   "execution_count": 868,
   "metadata": {},
   "outputs": [],
   "source": [
    "# documents\n",
    "milkPowder_collection = elevenst_db.get_collection('Milkpowder')"
   ]
  },
  {
   "cell_type": "code",
   "execution_count": 942,
   "metadata": {},
   "outputs": [
    {
     "data": {
      "text/plain": [
       "<pymongo.results.InsertManyResult at 0x20dfda49308>"
      ]
     },
     "execution_count": 942,
     "metadata": {},
     "output_type": "execute_result"
    }
   ],
   "source": [
    "milkPowder_collection.insert_many([\n",
    "    milkPowder_list[i] for i in range(len(milkPowder_list))\n",
    "])"
   ]
  },
  {
   "cell_type": "markdown",
   "metadata": {},
   "source": [
    "---"
   ]
  },
  {
   "cell_type": "markdown",
   "metadata": {},
   "source": [
    "### Reply \n",
    "- 상품페이지에서 review 있는 곳으로 가는 부분이 iframe 처리되어있었음\n",
    "- summ_txt( 자식 태그 )\n",
    "- reviewContTxt ( 자식 태그 )"
   ]
  },
  {
   "cell_type": "code",
   "execution_count": 710,
   "metadata": {},
   "outputs": [],
   "source": [
    "def getReplyResult():\n",
    "    try:\n",
    "        driver.switch_to_frame('ifrmReview')\n",
    "        soup = bs(driver.page_source, 'lxml')\n",
    "        replyResult = []\n",
    "        page_num = 1\n",
    "\n",
    "        while len(replyResult) < 20 :      \n",
    "            # 페이지 이동 \n",
    "            driver.find_element_by_css_selector('#paging_page').click()\n",
    "            reply_list = driver.find_element_by_css_selector('.s_paging_v2 a')\n",
    "            reply_page = reply_list.get_attribute('href')\n",
    "\n",
    "            reply_page.replace('page=2','page={0}'.format(page_num))\n",
    "\n",
    "            reply_1 = soup.select('.summ_conts .summ_txt')\n",
    "            for r in reply_1:\n",
    "                r = r.get_text()\n",
    "                r = r[11:].rstrip()\n",
    "                replyResult.append(r)\n",
    "\n",
    "            reply_2 = soup.select('.summ_conts #reviewContTxt')\n",
    "            for r in reply_2:\n",
    "                r = r.get_text()\n",
    "                r = r[11:].rstrip()\n",
    "                replyResult.append(r)\n",
    "\n",
    "            page_num += 1\n",
    "    except NoSuchElementException:\n",
    "        replyResult = None\n",
    "    except NoSuchFrameException:\n",
    "        replyResult = None\n",
    "    \n",
    "            \n",
    "    return replyResult "
   ]
  },
  {
   "cell_type": "code",
   "execution_count": 368,
   "metadata": {},
   "outputs": [],
   "source": [
    "s = getReplyResult()"
   ]
  },
  {
   "cell_type": "code",
   "execution_count": 174,
   "metadata": {},
   "outputs": [
    {
     "data": {
      "text/plain": [
       "['남양꺼 먹이다가 요즘 사기도 힘들고 베비언스로 갈아타려구요..아기 먹이는건데 어찌 사는걸 이리 힘들게 해놨는지 이제 남양은 안살랍니다 아기꺼라 쉽게 못바꿨는데...잘 먹어주면 이걸로 ...쿠폰할인으로 싸게 샀어요',\n",
       " '친구집 갔다가 하나 아기에게 먹여봤는데 잘 먹더라구요. 할인해서 저도 한박스 샀네여. 유통기한도 길고 외출할때도 편하고. 울 아기 새벽에도 수유 하는 아기라 새벽에 분유 안타고 그냥 따서 줄려구요.',\n",
       " '아기가잘먹고 가지고다니기편하고 여러모로편리하지만 돌이되어가는 아기에겐 양이많아 버리고먹이거나 다른 젖병에 부어서 양을 조절해야하는게 아쉽네요',\n",
       " '막 던지셨어요?? 박스완전 다찌그러져서 걱정했는데ㅡㅡ 역시나 분유가 찌그러졌네요.. 애가먹는거라고 적혀있어도 택배기사님들 더운날 고생하는건 알겠지만..왜던지나 모르겟네요!!!!!화나네요!!!!!!’ㅜㅜ 다른데보다 저렴해서 삿더니 유통기한도짧고 고마 빨리먹고 구매하던데서 돈더주고 사는게 낫긋네요ㅡㅡ',\n",
       " '애기 둘키우는맘인데 액상분유는처음먹여봐요 가루분유는 외출시 번거롭고챙겨야할것도많은데 액상분유는 음료수처럼필요한만큼 몇개챙겨서 가방에넣고나기만하면되니 시간줄이고 챙겨야할것줄이고 암튼간편하고 좋아요 애기가 안먹어본거라 거부하면어쩌나 안먹으면어쩌나？x는데 다행히잘먹네요ㅎㅎ',\n",
       " '외출시 액상분유만큼 편한 제품이 없어서 구입했어요~~ 어른들은 이 제품보더니 요즘 참 세상 좋아졌다며 웃으시네요^^ 중복쿠폰 적용해서 저렴하게 구입하여 아주 만족합니다! 다행히 아이도 거부감없이 잘 먹어줘서 다행이네요^^',\n",
       " '편하게 하나씩 따서 먹이기 좋아요~ 유통기한은 12월 3일까지에요~ 폭염이라 걱정했는데 무사히 왔네요~ vip데이에 저렴히 득템했어요~~',\n",
       " '액상분유는 베비언스가 최고인듯ㅎㅎ 첫애도 이거 먹였어요~~ 간편하고 좋아요 살짝 달아서인지 아이가 정말 잘 먹네요~',\n",
       " '남양꺼 먹이다가 요즘 사기도 힘들고 베비언스로 갈아타려구요..아기 먹이는건데 어찌 사는걸 이리 힘들게 해놨는지 이제 남양은 안살랍니다 아기꺼라 쉽게 못바꿨는데...잘 먹어주면 이걸로 ...쿠폰할인으로 싸게 샀어요',\n",
       " '친구집 갔다가 하나 아기에게 먹여봤는데 잘 먹더라구요. 할인해서 저도 한박스 샀네여. 유통기한도 길고 외출할때도 편하고. 울 아기 새벽에도 수유 하는 아기라 새벽에 분유 안타고 그냥 따서 줄려구요.',\n",
       " '아기가잘먹고 가지고다니기편하고 여러모로편리하지만 돌이되어가는 아기에겐 양이많아 버리고먹이거나 다른 젖병에 부어서 양을 조절해야하는게 아쉽네요',\n",
       " '막 던지셨어요?? 박스완전 다찌그러져서 걱정했는데ㅡㅡ 역시나 분유가 찌그러졌네요.. 애가먹는거라고 적혀있어도 택배기사님들 더운날 고생하는건 알겠지만..왜던지나 모르겟네요!!!!!화나네요!!!!!!’ㅜㅜ 다른데보다 저렴해서 삿더니 유통기한도짧고 고마 빨리먹고 구매하던데서 돈더주고 사는게 낫긋네요ㅡㅡ',\n",
       " '애기 둘키우는맘인데 액상분유는처음먹여봐요 가루분유는 외출시 번거롭고챙겨야할것도많은데 액상분유는 음료수처럼필요한만큼 몇개챙겨서 가방에넣고나기만하면되니 시간줄이고 챙겨야할것줄이고 암튼간편하고 좋아요 애기가 안먹어본거라 거부하면어쩌나 안먹으면어쩌나？x는데 다행히잘먹네요ㅎㅎ',\n",
       " '외출시 액상분유만큼 편한 제품이 없어서 구입했어요~~ 어른들은 이 제품보더니 요즘 참 세상 좋아졌다며 웃으시네요^^ 중복쿠폰 적용해서 저렴하게 구입하여 아주 만족합니다! 다행히 아이도 거부감없이 잘 먹어줘서 다행이네요^^',\n",
       " '편하게 하나씩 따서 먹이기 좋아요~ 유통기한은 12월 3일까지에요~ 폭염이라 걱정했는데 무사히 왔네요~ vip데이에 저렴히 득템했어요~~',\n",
       " '액상분유는 베비언스가 최고인듯ㅎㅎ 첫애도 이거 먹였어요~~ 간편하고 좋아요 살짝 달아서인지 아이가 정말 잘 먹네요~',\n",
       " '남양꺼 먹이다가 요즘 사기도 힘들고 베비언스로 갈아타려구요..아기 먹이는건데 어찌 사는걸 이리 힘들게 해놨는지 이제 남양은 안살랍니다 아기꺼라 쉽게 못바꿨는데...잘 먹어주면 이걸로 ...쿠폰할인으로 싸게 샀어요',\n",
       " '친구집 갔다가 하나 아기에게 먹여봤는데 잘 먹더라구요. 할인해서 저도 한박스 샀네여. 유통기한도 길고 외출할때도 편하고. 울 아기 새벽에도 수유 하는 아기라 새벽에 분유 안타고 그냥 따서 줄려구요.',\n",
       " '아기가잘먹고 가지고다니기편하고 여러모로편리하지만 돌이되어가는 아기에겐 양이많아 버리고먹이거나 다른 젖병에 부어서 양을 조절해야하는게 아쉽네요',\n",
       " '막 던지셨어요?? 박스완전 다찌그러져서 걱정했는데ㅡㅡ 역시나 분유가 찌그러졌네요.. 애가먹는거라고 적혀있어도 택배기사님들 더운날 고생하는건 알겠지만..왜던지나 모르겟네요!!!!!화나네요!!!!!!’ㅜㅜ 다른데보다 저렴해서 삿더니 유통기한도짧고 고마 빨리먹고 구매하던데서 돈더주고 사는게 낫긋네요ㅡㅡ',\n",
       " '애기 둘키우는맘인데 액상분유는처음먹여봐요 가루분유는 외출시 번거롭고챙겨야할것도많은데 액상분유는 음료수처럼필요한만큼 몇개챙겨서 가방에넣고나기만하면되니 시간줄이고 챙겨야할것줄이고 암튼간편하고 좋아요 애기가 안먹어본거라 거부하면어쩌나 안먹으면어쩌나？x는데 다행히잘먹네요ㅎㅎ',\n",
       " '외출시 액상분유만큼 편한 제품이 없어서 구입했어요~~ 어른들은 이 제품보더니 요즘 참 세상 좋아졌다며 웃으시네요^^ 중복쿠폰 적용해서 저렴하게 구입하여 아주 만족합니다! 다행히 아이도 거부감없이 잘 먹어줘서 다행이네요^^',\n",
       " '편하게 하나씩 따서 먹이기 좋아요~ 유통기한은 12월 3일까지에요~ 폭염이라 걱정했는데 무사히 왔네요~ vip데이에 저렴히 득템했어요~~',\n",
       " '액상분유는 베비언스가 최고인듯ㅎㅎ 첫애도 이거 먹였어요~~ 간편하고 좋아요 살짝 달아서인지 아이가 정말 잘 먹네요~']"
      ]
     },
     "execution_count": 174,
     "metadata": {},
     "output_type": "execute_result"
    }
   ],
   "source": [
    "s"
   ]
  },
  {
   "cell_type": "markdown",
   "metadata": {},
   "source": [
    "---"
   ]
  },
  {
   "cell_type": "markdown",
   "metadata": {},
   "source": [
    "### Brand \n",
    "- 국내 / 해외 브랜드명 크롤링해서 List(domestic/overseas) 에 넣기 \n",
    "- 제품명 split 해서 List(titleList) 에 넣어 놓은다음에 비교 "
   ]
  },
  {
   "cell_type": "code",
   "execution_count": 252,
   "metadata": {},
   "outputs": [],
   "source": [
    "def getBrand(title):\n",
    "    for title in title.split():\n",
    "        if i in domestic:\n",
    "            brand = i\n",
    "            print(brand)"
   ]
  },
  {
   "cell_type": "markdown",
   "metadata": {},
   "source": [
    "#### 국내/해외 브랜드 List 작업 "
   ]
  },
  {
   "cell_type": "code",
   "execution_count": 246,
   "metadata": {},
   "outputs": [],
   "source": [
    "driver.get('http://www.11st.co.kr/browsing/DisplayCategory.tmall?method=getDisplayCategory2Depth&dispCtgrNo=1001550')"
   ]
  },
  {
   "cell_type": "code",
   "execution_count": 247,
   "metadata": {},
   "outputs": [],
   "source": [
    "domestic_milk = driver.find_elements_by_css_selector('#areaBrandList .b_name')"
   ]
  },
  {
   "cell_type": "code",
   "execution_count": 248,
   "metadata": {},
   "outputs": [],
   "source": [
    "domestic = [i.text for i in domestic_milk]"
   ]
  },
  {
   "cell_type": "code",
   "execution_count": 249,
   "metadata": {},
   "outputs": [
    {
     "data": {
      "text/plain": [
       "['남양유업', '일동후디스', '매일유업', '파스퇴르', '앱솔루트']"
      ]
     },
     "execution_count": 249,
     "metadata": {},
     "output_type": "execute_result"
    }
   ],
   "source": [
    "domestic[:5]"
   ]
  },
  {
   "cell_type": "code",
   "execution_count": 250,
   "metadata": {},
   "outputs": [],
   "source": [
    "domestic.append('남양')"
   ]
  },
  {
   "cell_type": "markdown",
   "metadata": {},
   "source": [
    "#### 제품명과 브랜드 리스트 비교 "
   ]
  },
  {
   "cell_type": "code",
   "execution_count": 374,
   "metadata": {},
   "outputs": [],
   "source": [
    "t = '[11%쿠폰] 남양유업 액상분유 2/3단계 25입 1단계 24입'"
   ]
  },
  {
   "cell_type": "code",
   "execution_count": 265,
   "metadata": {},
   "outputs": [
    {
     "name": "stdout",
     "output_type": "stream",
     "text": [
      "일동후디스\n"
     ]
    }
   ],
   "source": [
    "for i in t.split():\n",
    "    if i in domestic:\n",
    "        brand = i\n",
    "        print(brand)"
   ]
  },
  {
   "cell_type": "code",
   "execution_count": 379,
   "metadata": {},
   "outputs": [],
   "source": [
    "for i in range(len(domestic)):\n",
    "    brand = '국내' if domestic[i] in t else '해외'\n",
    "        "
   ]
  },
  {
   "cell_type": "markdown",
   "metadata": {},
   "source": [
    "### Run Crawling milk_powder"
   ]
  },
  {
   "cell_type": "code",
   "execution_count": 880,
   "metadata": {},
   "outputs": [],
   "source": [
    "milkPowder_list = []"
   ]
  },
  {
   "cell_type": "code",
   "execution_count": 940,
   "metadata": {},
   "outputs": [],
   "source": [
    "for i in range(47,99):\n",
    "    result = getInfo_milkPowder(link[i])\n",
    "    milkPowder_list.append(result)\n",
    "    driver.implicitly_wait(1)"
   ]
  },
  {
   "cell_type": "code",
   "execution_count": 941,
   "metadata": {},
   "outputs": [
    {
     "data": {
      "text/plain": [
       "98"
      ]
     },
     "execution_count": 941,
     "metadata": {},
     "output_type": "execute_result"
    }
   ],
   "source": [
    "len(milkPowder_list)"
   ]
  },
  {
   "cell_type": "code",
   "execution_count": 939,
   "metadata": {},
   "outputs": [
    {
     "data": {
      "text/plain": [
       "{'link': 'http://www.11st.co.kr/product/SellerProductDetail.tmall?method=getSellerProductDetail&prdNo=942000762&trTypeCd=22&trCtgrNo=895019',\n",
       " 'img': 'http://i.011st.com/ex_t/R/400x400/1/85/0/src/pd/17/0/0/0/7/6/2/vZowa/942000762_B.jpg',\n",
       " 'brand': '상품상세설명 참조',\n",
       " 'title': '[[이베이비샵]]남양 임페리얼XO1~4단계/800g/사은품\\n4시주문까지 당일발송',\n",
       " 'origin': '국내',\n",
       " 'type': '분말',\n",
       " 'price': '22,000',\n",
       " 'rating': '4.7',\n",
       " 'optionTitle': ['XO 1단계(800g)',\n",
       "  'XO 2단계(800g)',\n",
       "  'XO 3단계(800g)',\n",
       "  'XO 4단계(800g)'],\n",
       " 'optionPrice': ['23,500', '23,500', '22,000', '22,000'],\n",
       " 'replyCount': 733,\n",
       " 'replyResult': ['좋아서 또 구매해요~ 비싼 분유를 가성비 좋게 먹을 수 있어서 좋고 배송도 잘 이루어집니다.',\n",
       "  '하필 광복절이껴서.우체국이라 토욜도 쉬니 급히 필요해서 한통주문한건데 수욜인가 시켰는데 월욜에 받았네요.어쩔수없이 분유떨어져서 마트가서 스틱사고.다른택배는 토욜에 왔는데 여기만 월욜이 도착.분윤데 빨리보내주시지.그점만빼면.뭐...',\n",
       "  '상품은 만족하지만 개념없는 택배기사때문에 불만 누르고 갑니다.택배사 바꾸셨음 좋겠어요;  앞으로도 여기서 구매하고 싶은데 그 택배기사 꼬락서니 보기 싫어서ㅜㅜ',\n",
       "  '쿠폰다운받아서 많이 싸게 주문했어요~ 센스있게 손수건도 하나 넣어주셨네요ㅋㅋ 깨지는것도 아닌데 분유통 하나하나마다 뽁뽁이를 정성스럽게 다 싸주셨더라구요^^ 느므 감사하게 잘 받았습니다~♡',\n",
       "  '제품은 찌그러지지도않구 포장두 잘 해주셨는데 택배기사님이 별로네요 급해서 시킨건데 신생아랑 하루종일있는 집에 벨한번 누르지도않구 경비실에 떡하니 맡기고 가시는건 좀 너무하네요',\n",
       "  '2단계들어가기전 딱 한통이 모자라 시켰는데 다른데보다 쪼금더싸고.일단 배송짱이네요^^바로와서 그날안왔음 모자랐을텐데 딱떨어진날 배송되서 바로먹일수있었네요~완젼만족하네요',\n",
       "  '아이가 별탈없이 잘먹고있어요 하지만 포장에 좀더 신경써주시면 좋겠어요 상품을 받아본후 별이상 없었긴하지만 뽁뽁이 한겹으로 둘러져있는걸 확인하고나니 신경이 쓰이더라구요',\n",
       "  '제 마음에 쏙 드네요... 또 구매할께요^^근데 택배기사님이 너무하시네요 집에사람있는데도 물량이 너무많다고 경비실에 맡겨두시고 물건을？O으러갔는데 물건은 놔두고가시도 안하고,',\n",
       "  '박스안에 한통씩 개별포장으로보내주셨네요 다른곳은 찌그러지거나 상자가 뜯긴채온다는곳도많더라구요 사소하지만 내 아이에먹거리인만큼 세심함에 감사드립니다^^',\n",
       "  '5월 1일 입금하고 오늘 받았어요. 한진 택배는 항상 연락없이 경비실에 맡기고 문자 남기고 끝 ㅡㅡ 타사이트에서도 분유구입해봤는데 상자에 ？s？s이 가득 넣어 찌그러짐 없이 오는데 여기는 사진처럼 딱 분유만.. 아무리 취급주의가 써 있어도 택배사는 그냥 던져버리는거 뻔히 알면서..저렇게 예쁘게 찌그러져왔네요.ㅡㅡ 상품은.. 쓰던 분유니까 잘 먹일게요.',\n",
       "  '좋아서 또 구매해요~ 비싼 분유를 가성비 좋게 먹을 수 있어서 좋고 배송도 잘 이루어집니다.',\n",
       "  '하필 광복절이껴서.우체국이라 토욜도 쉬니 급히 필요해서 한통주문한건데 수욜인가 시켰는데 월욜에 받았네요.어쩔수없이 분유떨어져서 마트가서 스틱사고.다른택배는 토욜에 왔는데 여기만 월욜이 도착.분윤데 빨리보내주시지.그점만빼면.뭐...',\n",
       "  '상품은 만족하지만 개념없는 택배기사때문에 불만 누르고 갑니다.택배사 바꾸셨음 좋겠어요;  앞으로도 여기서 구매하고 싶은데 그 택배기사 꼬락서니 보기 싫어서ㅜㅜ',\n",
       "  '쿠폰다운받아서 많이 싸게 주문했어요~ 센스있게 손수건도 하나 넣어주셨네요ㅋㅋ 깨지는것도 아닌데 분유통 하나하나마다 뽁뽁이를 정성스럽게 다 싸주셨더라구요^^ 느므 감사하게 잘 받았습니다~♡',\n",
       "  '제품은 찌그러지지도않구 포장두 잘 해주셨는데 택배기사님이 별로네요 급해서 시킨건데 신생아랑 하루종일있는 집에 벨한번 누르지도않구 경비실에 떡하니 맡기고 가시는건 좀 너무하네요',\n",
       "  '2단계들어가기전 딱 한통이 모자라 시켰는데 다른데보다 쪼금더싸고.일단 배송짱이네요^^바로와서 그날안왔음 모자랐을텐데 딱떨어진날 배송되서 바로먹일수있었네요~완젼만족하네요',\n",
       "  '아이가 별탈없이 잘먹고있어요 하지만 포장에 좀더 신경써주시면 좋겠어요 상품을 받아본후 별이상 없었긴하지만 뽁뽁이 한겹으로 둘러져있는걸 확인하고나니 신경이 쓰이더라구요',\n",
       "  '제 마음에 쏙 드네요... 또 구매할께요^^근데 택배기사님이 너무하시네요 집에사람있는데도 물량이 너무많다고 경비실에 맡겨두시고 물건을？O으러갔는데 물건은 놔두고가시도 안하고,',\n",
       "  '박스안에 한통씩 개별포장으로보내주셨네요 다른곳은 찌그러지거나 상자가 뜯긴채온다는곳도많더라구요 사소하지만 내 아이에먹거리인만큼 세심함에 감사드립니다^^',\n",
       "  '5월 1일 입금하고 오늘 받았어요. 한진 택배는 항상 연락없이 경비실에 맡기고 문자 남기고 끝 ㅡㅡ 타사이트에서도 분유구입해봤는데 상자에 ？s？s이 가득 넣어 찌그러짐 없이 오는데 여기는 사진처럼 딱 분유만.. 아무리 취급주의가 써 있어도 택배사는 그냥 던져버리는거 뻔히 알면서..저렇게 예쁘게 찌그러져왔네요.ㅡㅡ 상품은.. 쓰던 분유니까 잘 먹일게요.']}"
      ]
     },
     "execution_count": 939,
     "metadata": {},
     "output_type": "execute_result"
    }
   ],
   "source": [
    "milkPowder_list[45]"
   ]
  }
 ],
 "metadata": {
  "kernelspec": {
   "display_name": "Python 3",
   "language": "python",
   "name": "python3"
  },
  "language_info": {
   "codemirror_mode": {
    "name": "ipython",
    "version": 3
   },
   "file_extension": ".py",
   "mimetype": "text/x-python",
   "name": "python",
   "nbconvert_exporter": "python",
   "pygments_lexer": "ipython3",
   "version": "3.6.6"
  }
 },
 "nbformat": 4,
 "nbformat_minor": 2
}
