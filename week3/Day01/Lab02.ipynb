{
 "cells": [
  {
   "cell_type": "markdown",
   "metadata": {},
   "source": [
    "### 사용된 웹 기술 확인\n",
    "- 상대방서버를 확인할 수 있는 builtwith"
   ]
  },
  {
   "cell_type": "code",
   "execution_count": 2,
   "metadata": {},
   "outputs": [
    {
     "name": "stdout",
     "output_type": "stream",
     "text": [
      "Requirement already satisfied: builtwith in c:\\program files\\anaconda3\\lib\\site-packages (1.3.3)\n",
      "Requirement already satisfied: six in c:\\program files\\anaconda3\\lib\\site-packages (from builtwith) (1.11.0)\n"
     ]
    },
    {
     "name": "stderr",
     "output_type": "stream",
     "text": [
      "distributed 1.22.0 requires msgpack, which is not installed.\n"
     ]
    }
   ],
   "source": [
    "!pip install builtwith"
   ]
  },
  {
   "cell_type": "code",
   "execution_count": 1,
   "metadata": {},
   "outputs": [],
   "source": [
    "import builtwith"
   ]
  },
  {
   "cell_type": "code",
   "execution_count": 3,
   "metadata": {},
   "outputs": [
    {
     "data": {
      "text/plain": [
       "{'web-servers': ['Google Web Server']}"
      ]
     },
     "execution_count": 3,
     "metadata": {},
     "output_type": "execute_result"
    }
   ],
   "source": [
    "builtwith.parse('http://www.google.com')"
   ]
  },
  {
   "cell_type": "code",
   "execution_count": 6,
   "metadata": {},
   "outputs": [
    {
     "data": {
      "text/plain": [
       "{}"
      ]
     },
     "execution_count": 6,
     "metadata": {},
     "output_type": "execute_result"
    }
   ],
   "source": [
    "builtwith.parse('http://www.naver.com')"
   ]
  },
  {
   "cell_type": "code",
   "execution_count": 7,
   "metadata": {},
   "outputs": [
    {
     "data": {
      "text/plain": [
       "{'web-servers': ['Nginx'],\n",
       " 'font-scripts': ['Google Font API'],\n",
       " 'ecommerce': ['WooCommerce'],\n",
       " 'cms': ['WordPress'],\n",
       " 'programming-languages': ['PHP'],\n",
       " 'blogs': ['PHP', 'WordPress']}"
      ]
     },
     "execution_count": 7,
     "metadata": {},
     "output_type": "execute_result"
    }
   ],
   "source": [
    "builtwith.parse('http://www.wordpress.com')"
   ]
  },
  {
   "cell_type": "code",
   "execution_count": 8,
   "metadata": {},
   "outputs": [
    {
     "data": {
      "text/plain": [
       "{}"
      ]
     },
     "execution_count": 8,
     "metadata": {},
     "output_type": "execute_result"
    }
   ],
   "source": [
    "builtwith.parse('http://www.daum.net')"
   ]
  },
  {
   "cell_type": "markdown",
   "metadata": {},
   "source": [
    "### 웹사이트 소유자 확인 - whois "
   ]
  },
  {
   "cell_type": "code",
   "execution_count": 9,
   "metadata": {},
   "outputs": [
    {
     "name": "stdout",
     "output_type": "stream",
     "text": [
      "Collecting python-whois\n",
      "  Downloading https://files.pythonhosted.org/packages/63/8a/8ed58b8b28b6200ce1cdfe4e4f3bbc8b85a79eef2aa615ec2fef511b3d68/python-whois-0.7.0.tar.gz (82kB)\n",
      "Collecting future (from python-whois)\n",
      "  Using cached https://files.pythonhosted.org/packages/00/2b/8d082ddfed935f3608cc61140df6dcbf0edea1bc3ab52fb6c29ae3e81e85/future-0.16.0.tar.gz\n",
      "Building wheels for collected packages: python-whois, future\n",
      "  Running setup.py bdist_wheel for python-whois: started\n",
      "  Running setup.py bdist_wheel for python-whois: finished with status 'done'\n",
      "  Stored in directory: C:\\Users\\sj\\AppData\\Local\\pip\\Cache\\wheels\\06\\cb\\7d\\33704632b0e1bb64460dc2b4dcc81ab212a3d5e52ab32dc531\n",
      "  Running setup.py bdist_wheel for future: started\n",
      "  Running setup.py bdist_wheel for future: finished with status 'done'\n",
      "  Stored in directory: C:\\Users\\sj\\AppData\\Local\\pip\\Cache\\wheels\\bf\\c9\\a3\\c538d90ef17cf7823fa51fc701a7a7a910a80f6a405bf15b1a\n",
      "Successfully built python-whois future\n",
      "Installing collected packages: future, python-whois\n",
      "Successfully installed future-0.16.0 python-whois-0.7.0\n"
     ]
    },
    {
     "name": "stderr",
     "output_type": "stream",
     "text": [
      "distributed 1.22.0 requires msgpack, which is not installed.\n"
     ]
    }
   ],
   "source": [
    "!pip install python-whois"
   ]
  },
  {
   "cell_type": "code",
   "execution_count": 10,
   "metadata": {},
   "outputs": [],
   "source": [
    "import whois"
   ]
  },
  {
   "cell_type": "code",
   "execution_count": 11,
   "metadata": {},
   "outputs": [
    {
     "data": {
      "text/plain": [
       "{'domain_name': ['NAVER.COM', 'naver.com'],\n",
       " 'registrar': 'Gabia, Inc.',\n",
       " 'whois_server': 'whois.gabia.com',\n",
       " 'referral_url': None,\n",
       " 'updated_date': [datetime.datetime(2016, 8, 5, 6, 37, 57),\n",
       "  datetime.datetime(2018, 2, 28, 11, 27, 15)],\n",
       " 'creation_date': [datetime.datetime(1997, 9, 12, 4, 0),\n",
       "  datetime.datetime(1997, 9, 12, 0, 0)],\n",
       " 'expiration_date': [datetime.datetime(2023, 9, 11, 4, 0),\n",
       "  datetime.datetime(2023, 9, 11, 0, 0)],\n",
       " 'name_servers': ['NS1.NAVER.COM',\n",
       "  'NS2.NAVER.COM',\n",
       "  'ns1.naver.com',\n",
       "  'ns2.naver.com'],\n",
       " 'status': ['clientDeleteProhibited https://icann.org/epp#clientDeleteProhibited',\n",
       "  'clientTransferProhibited https://icann.org/epp#clientTransferProhibited',\n",
       "  'clientUpdateProhibited https://icann.org/epp#clientUpdateProhibited',\n",
       "  'ok https://icann.org/epp#ok'],\n",
       " 'emails': ['white.4818@navercorp.com',\n",
       "  'dl_ssl@navercorp.com',\n",
       "  'abuse@gabia.com'],\n",
       " 'dnssec': 'unsigned',\n",
       " 'name': 'NAVER Corp.',\n",
       " 'org': 'NAVER Corp.',\n",
       " 'address': '6 Buljung-ro, Bundang-gu, Seongnam-si, Gyeonggi-do, 463-867, Korea',\n",
       " 'city': 'Gyeonggi',\n",
       " 'state': None,\n",
       " 'zipcode': '463463',\n",
       " 'country': 'KR'}"
      ]
     },
     "execution_count": 11,
     "metadata": {},
     "output_type": "execute_result"
    }
   ],
   "source": [
    "whois.whois('naver.com')"
   ]
  },
  {
   "cell_type": "code",
   "execution_count": 12,
   "metadata": {},
   "outputs": [
    {
     "data": {
      "text/plain": [
       "{'domain_name': ['APPSPOT.COM', 'appspot.com'],\n",
       " 'registrar': 'MarkMonitor, Inc.',\n",
       " 'whois_server': 'whois.markmonitor.com',\n",
       " 'referral_url': None,\n",
       " 'updated_date': [datetime.datetime(2018, 2, 6, 10, 30, 28),\n",
       "  datetime.datetime(2018, 2, 6, 2, 30, 29)],\n",
       " 'creation_date': [datetime.datetime(2005, 3, 10, 2, 27, 55),\n",
       "  datetime.datetime(2005, 3, 9, 18, 27, 55)],\n",
       " 'expiration_date': [datetime.datetime(2019, 3, 10, 1, 27, 55),\n",
       "  datetime.datetime(2019, 3, 9, 0, 0)],\n",
       " 'name_servers': ['NS1.GOOGLE.COM',\n",
       "  'NS2.GOOGLE.COM',\n",
       "  'NS3.GOOGLE.COM',\n",
       "  'NS4.GOOGLE.COM',\n",
       "  'ns3.google.com',\n",
       "  'ns4.google.com',\n",
       "  'ns2.google.com',\n",
       "  'ns1.google.com'],\n",
       " 'status': ['clientDeleteProhibited https://icann.org/epp#clientDeleteProhibited',\n",
       "  'clientTransferProhibited https://icann.org/epp#clientTransferProhibited',\n",
       "  'clientUpdateProhibited https://icann.org/epp#clientUpdateProhibited',\n",
       "  'serverDeleteProhibited https://icann.org/epp#serverDeleteProhibited',\n",
       "  'serverTransferProhibited https://icann.org/epp#serverTransferProhibited',\n",
       "  'serverUpdateProhibited https://icann.org/epp#serverUpdateProhibited',\n",
       "  'clientUpdateProhibited (https://www.icann.org/epp#clientUpdateProhibited)',\n",
       "  'clientTransferProhibited (https://www.icann.org/epp#clientTransferProhibited)',\n",
       "  'clientDeleteProhibited (https://www.icann.org/epp#clientDeleteProhibited)',\n",
       "  'serverUpdateProhibited (https://www.icann.org/epp#serverUpdateProhibited)',\n",
       "  'serverTransferProhibited (https://www.icann.org/epp#serverTransferProhibited)',\n",
       "  'serverDeleteProhibited (https://www.icann.org/epp#serverDeleteProhibited)'],\n",
       " 'emails': ['abusecomplaints@markmonitor.com', 'whoisrelay@markmonitor.com'],\n",
       " 'dnssec': 'unsigned',\n",
       " 'name': None,\n",
       " 'org': 'Google LLC',\n",
       " 'address': None,\n",
       " 'city': None,\n",
       " 'state': 'CA',\n",
       " 'zipcode': None,\n",
       " 'country': 'US'}"
      ]
     },
     "execution_count": 12,
     "metadata": {},
     "output_type": "execute_result"
    }
   ],
   "source": [
    "whois.whois('appspot.com')"
   ]
  },
  {
   "cell_type": "code",
   "execution_count": 14,
   "metadata": {},
   "outputs": [
    {
     "data": {
      "text/plain": [
       "{'domain_name': 'ajou.ac.kr',\n",
       " 'registrant_org': 'AJOU UNIVERSITY COMPUTING CENTER',\n",
       " 'registrant_address': 'San 91, Woncheon-dong Youngtong-gu, Suwon-si KR',\n",
       " 'registrant_zip': '442749',\n",
       " 'admin_name': 'Lee, gun',\n",
       " 'admin_email': 'webmaster@ajou.ac.kr',\n",
       " 'admin_phone': '031-219-2185',\n",
       " 'creation_date': datetime.datetime(1996, 7, 9, 0, 0),\n",
       " 'updated_date': datetime.datetime(2015, 9, 7, 0, 0),\n",
       " 'expiration_date': datetime.datetime(2021, 8, 19, 0, 0),\n",
       " 'registrar': 'Inames Co., Ltd.(http://www.inames.co.kr)',\n",
       " 'name_servers': ['madang.ajou.ac.kr', 'madang1.ajou.ac.kr']}"
      ]
     },
     "execution_count": 14,
     "metadata": {},
     "output_type": "execute_result"
    }
   ],
   "source": [
    "whois.whois('ajou.ac.kr')"
   ]
  },
  {
   "cell_type": "code",
   "execution_count": null,
   "metadata": {},
   "outputs": [],
   "source": []
  }
 ],
 "metadata": {
  "kernelspec": {
   "display_name": "Python 3",
   "language": "python",
   "name": "python3"
  },
  "language_info": {
   "codemirror_mode": {
    "name": "ipython",
    "version": 3
   },
   "file_extension": ".py",
   "mimetype": "text/x-python",
   "name": "python",
   "nbconvert_exporter": "python",
   "pygments_lexer": "ipython3",
   "version": "3.6.6"
  }
 },
 "nbformat": 4,
 "nbformat_minor": 2
}
