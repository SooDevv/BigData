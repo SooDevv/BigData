{
 "cells": [
  {
   "cell_type": "code",
   "execution_count": 1,
   "metadata": {},
   "outputs": [],
   "source": [
    "import urllib.request\n",
    "from lxml import etree"
   ]
  },
  {
   "cell_type": "code",
   "execution_count": 54,
   "metadata": {},
   "outputs": [],
   "source": [
    "url = \"http://openapi.airkorea.or.kr/openapi/services/rest/ArpltnInforInqireSvc/getMsrstnAcctoRltmMesureDnsty?\""
   ]
  },
  {
   "cell_type": "code",
   "execution_count": 101,
   "metadata": {},
   "outputs": [],
   "source": [
    "params = {\"serviceKey\" :\"q6%2BHrQv%2FeIJQkGKiY7NrGBA7EeXex1ZVBzudkNXDfGOtUYcaPmsHiKcj0fwIt73Qi2gXrhG3xRCtCImHyp%2BtRA%3D%3D\",\n",
    "         \"numOfRows\":10,\n",
    "         \"pageNo\":1,\n",
    "         \"dataTerm\":\"daily\",\n",
    "         \"stationName\":None,\n",
    "          \"ver\":\"1.3\"\n",
    "         }"
   ]
  },
  {
   "cell_type": "code",
   "execution_count": 102,
   "metadata": {},
   "outputs": [
    {
     "data": {
      "text/plain": [
       "{'serviceKey': 'q6%2BHrQv%2FeIJQkGKiY7NrGBA7EeXex1ZVBzudkNXDfGOtUYcaPmsHiKcj0fwIt73Qi2gXrhG3xRCtCImHyp%2BtRA%3D%3D',\n",
       " 'numOfRows': 10,\n",
       " 'pageNo': 1,\n",
       " 'dataTerm': 'daily',\n",
       " 'stationName': None,\n",
       " 'ver': '1.3'}"
      ]
     },
     "execution_count": 102,
     "metadata": {},
     "output_type": "execute_result"
    }
   ],
   "source": [
    "params"
   ]
  },
  {
   "cell_type": "code",
   "execution_count": 103,
   "metadata": {},
   "outputs": [],
   "source": [
    "from urllib import parse"
   ]
  },
  {
   "cell_type": "code",
   "execution_count": 104,
   "metadata": {},
   "outputs": [],
   "source": [
    "# string --> byte\n",
    "params[\"serviceKey\"] = urllib.parse.unquote(params[\"serviceKey\"])"
   ]
  },
  {
   "cell_type": "code",
   "execution_count": 105,
   "metadata": {},
   "outputs": [
    {
     "data": {
      "text/plain": [
       "{'serviceKey': 'q6+HrQv/eIJQkGKiY7NrGBA7EeXex1ZVBzudkNXDfGOtUYcaPmsHiKcj0fwIt73Qi2gXrhG3xRCtCImHyp+tRA==',\n",
       " 'numOfRows': 10,\n",
       " 'pageNo': 1,\n",
       " 'dataTerm': 'daily',\n",
       " 'stationName': None,\n",
       " 'ver': '1.3'}"
      ]
     },
     "execution_count": 105,
     "metadata": {},
     "output_type": "execute_result"
    }
   ],
   "source": [
    "params"
   ]
  },
  {
   "cell_type": "code",
   "execution_count": 106,
   "metadata": {},
   "outputs": [
    {
     "data": {
      "text/plain": [
       "{'serviceKey': 'q6+HrQv/eIJQkGKiY7NrGBA7EeXex1ZVBzudkNXDfGOtUYcaPmsHiKcj0fwIt73Qi2gXrhG3xRCtCImHyp+tRA==',\n",
       " 'numOfRows': 10,\n",
       " 'pageNo': 1,\n",
       " 'dataTerm': 'daily',\n",
       " 'stationName': '성북구',\n",
       " 'ver': '1.3'}"
      ]
     },
     "execution_count": 106,
     "metadata": {},
     "output_type": "execute_result"
    }
   ],
   "source": [
    "# stationName = None 이니깐 지정해줌\n",
    "params[\"stationName\"] = \"성북구\"\n",
    "params"
   ]
  },
  {
   "cell_type": "code",
   "execution_count": 107,
   "metadata": {},
   "outputs": [],
   "source": [
    "# byte형으로 변환 \n",
    "params = urllib.parse.urlencode(params)"
   ]
  },
  {
   "cell_type": "code",
   "execution_count": 108,
   "metadata": {},
   "outputs": [
    {
     "data": {
      "text/plain": [
       "str"
      ]
     },
     "execution_count": 108,
     "metadata": {},
     "output_type": "execute_result"
    }
   ],
   "source": [
    "type(params)"
   ]
  },
  {
   "cell_type": "markdown",
   "metadata": {},
   "source": [
    "### str 형의 params 를 url request 하기 위해 byte 형으로 변환 "
   ]
  },
  {
   "cell_type": "code",
   "execution_count": 109,
   "metadata": {},
   "outputs": [],
   "source": [
    "paramsbByte = params.encode(\"utf-8\")"
   ]
  },
  {
   "cell_type": "code",
   "execution_count": 110,
   "metadata": {},
   "outputs": [
    {
     "data": {
      "text/plain": [
       "bytes"
      ]
     },
     "execution_count": 110,
     "metadata": {},
     "output_type": "execute_result"
    }
   ],
   "source": [
    "type(paramsbByte)"
   ]
  },
  {
   "cell_type": "code",
   "execution_count": 111,
   "metadata": {},
   "outputs": [
    {
     "data": {
      "text/plain": [
       "b'serviceKey=q6%2BHrQv%2FeIJQkGKiY7NrGBA7EeXex1ZVBzudkNXDfGOtUYcaPmsHiKcj0fwIt73Qi2gXrhG3xRCtCImHyp%2BtRA%3D%3D&numOfRows=10&pageNo=1&dataTerm=daily&stationName=%EC%84%B1%EB%B6%81%EA%B5%AC&ver=1.3'"
      ]
     },
     "execution_count": 111,
     "metadata": {},
     "output_type": "execute_result"
    }
   ],
   "source": [
    "paramsbByte"
   ]
  },
  {
   "cell_type": "markdown",
   "metadata": {},
   "source": [
    "## url 확인"
   ]
  },
  {
   "cell_type": "code",
   "execution_count": 112,
   "metadata": {},
   "outputs": [
    {
     "name": "stdout",
     "output_type": "stream",
     "text": [
      "http://openapi.airkorea.or.kr/openapi/services/rest/ArpltnInforInqireSvc/getMsrstnAcctoRltmMesureDnsty?serviceKey=q6%2BHrQv%2FeIJQkGKiY7NrGBA7EeXex1ZVBzudkNXDfGOtUYcaPmsHiKcj0fwIt73Qi2gXrhG3xRCtCImHyp%2BtRA%3D%3D&numOfRows=10&pageNo=1&dataTerm=daily&stationName=%EC%84%B1%EB%B6%81%EA%B5%AC&ver=1.3\n"
     ]
    }
   ],
   "source": [
    "print(url+params)"
   ]
  },
  {
   "cell_type": "code",
   "execution_count": 113,
   "metadata": {},
   "outputs": [],
   "source": [
    "# url 과 params 의 data 를 request 객체로 만들어 놓는다\n",
    "req = urllib.request.Request(url, data = paramsbByte)"
   ]
  },
  {
   "cell_type": "code",
   "execution_count": 114,
   "metadata": {},
   "outputs": [],
   "source": [
    "res = urllib.request.urlopen(req)"
   ]
  },
  {
   "cell_type": "code",
   "execution_count": 115,
   "metadata": {},
   "outputs": [],
   "source": [
    "# 실제 받은것을 넘겨줌\n",
    "resResult = res.read()"
   ]
  },
  {
   "cell_type": "code",
   "execution_count": 116,
   "metadata": {},
   "outputs": [
    {
     "data": {
      "text/plain": [
       "b'<?xml version=\"1.0\" encoding=\"UTF-8\"?>\\r\\n\\r\\n\\r\\n\\r\\n\\r\\n<response>\\r\\n\\t<header>\\r\\n\\t\\t<resultCode>00</resultCode>\\r\\n\\t\\t<resultMsg>NORMAL SERVICE.</resultMsg>\\r\\n\\t</header>\\r\\n\\t<body>\\r\\n\\t\\t<items>\\r\\n\\t\\t\\t\\r\\n\\t\\t\\t\\t<item>\\r\\n\\t\\t\\t\\t\\t<dataTime>2018-07-16 11:00</dataTime>\\r\\n\\t\\t\\t\\t\\t\\r\\n                        <mangName>\\xeb\\x8f\\x84\\xec\\x8b\\x9c\\xeb\\x8c\\x80\\xea\\xb8\\xb0</mangName>\\r\\n                    \\r\\n\\t\\t\\t\\t\\t<so2Value>0.003</so2Value>\\r\\n\\t\\t\\t\\t\\t<coValue>0.5</coValue>\\r\\n\\t\\t\\t\\t\\t<o3Value>0.011</o3Value>\\r\\n\\t\\t\\t\\t\\t<no2Value>0.027</no2Value>\\r\\n\\t\\t\\t\\t\\t<pm10Value>29</pm10Value>\\r\\n\\t\\t\\t\\t\\t\\r\\n                        <pm10Value24>26</pm10Value24>\\r\\n                    \\r\\n\\t\\t\\t\\t\\t\\r\\n                        <pm25Value>10</pm25Value>\\r\\n                    \\r\\n                    \\r\\n                        <pm25Value24>12</pm25Value24>\\r\\n                    \\r\\n\\t\\t\\t\\t\\t<khaiValue>45</khaiValue>\\r\\n\\t\\t\\t\\t\\t<khaiGrade>1</khaiGrade>\\r\\n\\t\\t\\t\\t\\t<so2Grade>1</so2Grade>\\r\\n\\t\\t\\t\\t\\t<coGrade>1</coGrade>\\r\\n\\t\\t\\t\\t\\t<o3Grade>1</o3Grade>\\r\\n\\t\\t\\t\\t\\t<no2Grade>1</no2Grade>\\r\\n\\t\\t\\t\\t\\t<pm10Grade>1</pm10Grade>\\r\\n\\t\\t\\t\\t\\t\\r\\n                        <pm25Grade>1</pm25Grade>\\r\\n                    \\r\\n                    \\r\\n                        <pm10Grade1h>1</pm10Grade1h>\\r\\n                        <pm25Grade1h>1</pm25Grade1h>\\r\\n                    \\r\\n\\t\\t\\t\\t</item>\\r\\n\\t\\t\\t\\r\\n\\t\\t\\t\\t<item>\\r\\n\\t\\t\\t\\t\\t<dataTime>2018-07-16 10:00</dataTime>\\r\\n\\t\\t\\t\\t\\t\\r\\n                        <mangName>\\xeb\\x8f\\x84\\xec\\x8b\\x9c\\xeb\\x8c\\x80\\xea\\xb8\\xb0</mangName>\\r\\n                    \\r\\n\\t\\t\\t\\t\\t<so2Value>0.003</so2Value>\\r\\n\\t\\t\\t\\t\\t<coValue>0.5</coValue>\\r\\n\\t\\t\\t\\t\\t<o3Value>0.009</o3Value>\\r\\n\\t\\t\\t\\t\\t<no2Value>0.024</no2Value>\\r\\n\\t\\t\\t\\t\\t<pm10Value>26</pm10Value>\\r\\n\\t\\t\\t\\t\\t\\r\\n                        <pm10Value24>24</pm10Value24>\\r\\n                    \\r\\n\\t\\t\\t\\t\\t\\r\\n                        <pm25Value>-</pm25Value>\\r\\n                    \\r\\n                    \\r\\n                        <pm25Value24>12</pm25Value24>\\r\\n                    \\r\\n\\t\\t\\t\\t\\t<khaiValue>40</khaiValue>\\r\\n\\t\\t\\t\\t\\t<khaiGrade>1</khaiGrade>\\r\\n\\t\\t\\t\\t\\t<so2Grade>1</so2Grade>\\r\\n\\t\\t\\t\\t\\t<coGrade>1</coGrade>\\r\\n\\t\\t\\t\\t\\t<o3Grade>1</o3Grade>\\r\\n\\t\\t\\t\\t\\t<no2Grade>1</no2Grade>\\r\\n\\t\\t\\t\\t\\t<pm10Grade>1</pm10Grade>\\r\\n\\t\\t\\t\\t\\t\\r\\n                        <pm25Grade>1</pm25Grade>\\r\\n                    \\r\\n                    \\r\\n                        <pm10Grade1h>1</pm10Grade1h>\\r\\n                        <pm25Grade1h></pm25Grade1h>\\r\\n                    \\r\\n\\t\\t\\t\\t</item>\\r\\n\\t\\t\\t\\r\\n\\t\\t\\t\\t<item>\\r\\n\\t\\t\\t\\t\\t<dataTime>2018-07-16 09:00</dataTime>\\r\\n\\t\\t\\t\\t\\t\\r\\n                        <mangName>\\xeb\\x8f\\x84\\xec\\x8b\\x9c\\xeb\\x8c\\x80\\xea\\xb8\\xb0</mangName>\\r\\n                    \\r\\n\\t\\t\\t\\t\\t<so2Value>0.003</so2Value>\\r\\n\\t\\t\\t\\t\\t<coValue>0.5</coValue>\\r\\n\\t\\t\\t\\t\\t<o3Value>0.007</o3Value>\\r\\n\\t\\t\\t\\t\\t<no2Value>0.023</no2Value>\\r\\n\\t\\t\\t\\t\\t<pm10Value>35</pm10Value>\\r\\n\\t\\t\\t\\t\\t\\r\\n                        <pm10Value24>23</pm10Value24>\\r\\n                    \\r\\n\\t\\t\\t\\t\\t\\r\\n                        <pm25Value>11</pm25Value>\\r\\n                    \\r\\n                    \\r\\n                        <pm25Value24>12</pm25Value24>\\r\\n                    \\r\\n\\t\\t\\t\\t\\t<khaiValue>40</khaiValue>\\r\\n\\t\\t\\t\\t\\t<khaiGrade>1</khaiGrade>\\r\\n\\t\\t\\t\\t\\t<so2Grade>1</so2Grade>\\r\\n\\t\\t\\t\\t\\t<coGrade>1</coGrade>\\r\\n\\t\\t\\t\\t\\t<o3Grade>1</o3Grade>\\r\\n\\t\\t\\t\\t\\t<no2Grade>1</no2Grade>\\r\\n\\t\\t\\t\\t\\t<pm10Grade>1</pm10Grade>\\r\\n\\t\\t\\t\\t\\t\\r\\n                        <pm25Grade>1</pm25Grade>\\r\\n                    \\r\\n                    \\r\\n                        <pm10Grade1h>2</pm10Grade1h>\\r\\n                        <pm25Grade1h>1</pm25Grade1h>\\r\\n                    \\r\\n\\t\\t\\t\\t</item>\\r\\n\\t\\t\\t\\r\\n\\t\\t\\t\\t<item>\\r\\n\\t\\t\\t\\t\\t<dataTime>2018-07-16 08:00</dataTime>\\r\\n\\t\\t\\t\\t\\t\\r\\n                        <mangName>\\xeb\\x8f\\x84\\xec\\x8b\\x9c\\xeb\\x8c\\x80\\xea\\xb8\\xb0</mangName>\\r\\n                    \\r\\n\\t\\t\\t\\t\\t<so2Value>0.003</so2Value>\\r\\n\\t\\t\\t\\t\\t<coValue>0.5</coValue>\\r\\n\\t\\t\\t\\t\\t<o3Value>0.004</o3Value>\\r\\n\\t\\t\\t\\t\\t<no2Value>0.019</no2Value>\\r\\n\\t\\t\\t\\t\\t<pm10Value>23</pm10Value>\\r\\n\\t\\t\\t\\t\\t\\r\\n                        <pm10Value24>20</pm10Value24>\\r\\n                    \\r\\n\\t\\t\\t\\t\\t\\r\\n                        <pm25Value>12</pm25Value>\\r\\n                    \\r\\n                    \\r\\n                        <pm25Value24>12</pm25Value24>\\r\\n                    \\r\\n\\t\\t\\t\\t\\t<khaiValue>40</khaiValue>\\r\\n\\t\\t\\t\\t\\t<khaiGrade>1</khaiGrade>\\r\\n\\t\\t\\t\\t\\t<so2Grade>1</so2Grade>\\r\\n\\t\\t\\t\\t\\t<coGrade>1</coGrade>\\r\\n\\t\\t\\t\\t\\t<o3Grade>1</o3Grade>\\r\\n\\t\\t\\t\\t\\t<no2Grade>1</no2Grade>\\r\\n\\t\\t\\t\\t\\t<pm10Grade>1</pm10Grade>\\r\\n\\t\\t\\t\\t\\t\\r\\n                        <pm25Grade>1</pm25Grade>\\r\\n                    \\r\\n                    \\r\\n                        <pm10Grade1h>1</pm10Grade1h>\\r\\n                        <pm25Grade1h>1</pm25Grade1h>\\r\\n                    \\r\\n\\t\\t\\t\\t</item>\\r\\n\\t\\t\\t\\r\\n\\t\\t\\t\\t<item>\\r\\n\\t\\t\\t\\t\\t<dataTime>2018-07-16 07:00</dataTime>\\r\\n\\t\\t\\t\\t\\t\\r\\n                        <mangName>\\xeb\\x8f\\x84\\xec\\x8b\\x9c\\xeb\\x8c\\x80\\xea\\xb8\\xb0</mangName>\\r\\n                    \\r\\n\\t\\t\\t\\t\\t<so2Value>0.002</so2Value>\\r\\n\\t\\t\\t\\t\\t<coValue>0.6</coValue>\\r\\n\\t\\t\\t\\t\\t<o3Value>0.003</o3Value>\\r\\n\\t\\t\\t\\t\\t<no2Value>0.016</no2Value>\\r\\n\\t\\t\\t\\t\\t<pm10Value>17</pm10Value>\\r\\n\\t\\t\\t\\t\\t\\r\\n                        <pm10Value24>20</pm10Value24>\\r\\n                    \\r\\n\\t\\t\\t\\t\\t\\r\\n                        <pm25Value>14</pm25Value>\\r\\n                    \\r\\n                    \\r\\n                        <pm25Value24>12</pm25Value24>\\r\\n                    \\r\\n\\t\\t\\t\\t\\t<khaiValue>40</khaiValue>\\r\\n\\t\\t\\t\\t\\t<khaiGrade>1</khaiGrade>\\r\\n\\t\\t\\t\\t\\t<so2Grade>1</so2Grade>\\r\\n\\t\\t\\t\\t\\t<coGrade>1</coGrade>\\r\\n\\t\\t\\t\\t\\t<o3Grade>1</o3Grade>\\r\\n\\t\\t\\t\\t\\t<no2Grade>1</no2Grade>\\r\\n\\t\\t\\t\\t\\t<pm10Grade>1</pm10Grade>\\r\\n\\t\\t\\t\\t\\t\\r\\n                        <pm25Grade>1</pm25Grade>\\r\\n                    \\r\\n                    \\r\\n                        <pm10Grade1h>1</pm10Grade1h>\\r\\n                        <pm25Grade1h>1</pm25Grade1h>\\r\\n                    \\r\\n\\t\\t\\t\\t</item>\\r\\n\\t\\t\\t\\r\\n\\t\\t\\t\\t<item>\\r\\n\\t\\t\\t\\t\\t<dataTime>2018-07-16 06:00</dataTime>\\r\\n\\t\\t\\t\\t\\t\\r\\n                        <mangName>\\xeb\\x8f\\x84\\xec\\x8b\\x9c\\xeb\\x8c\\x80\\xea\\xb8\\xb0</mangName>\\r\\n                    \\r\\n\\t\\t\\t\\t\\t<so2Value>0.002</so2Value>\\r\\n\\t\\t\\t\\t\\t<coValue>0.4</coValue>\\r\\n\\t\\t\\t\\t\\t<o3Value>0.003</o3Value>\\r\\n\\t\\t\\t\\t\\t<no2Value>0.013</no2Value>\\r\\n\\t\\t\\t\\t\\t<pm10Value>22</pm10Value>\\r\\n\\t\\t\\t\\t\\t\\r\\n                        <pm10Value24>21</pm10Value24>\\r\\n                    \\r\\n\\t\\t\\t\\t\\t\\r\\n                        <pm25Value>8</pm25Value>\\r\\n                    \\r\\n                    \\r\\n                        <pm25Value24>13</pm25Value24>\\r\\n                    \\r\\n\\t\\t\\t\\t\\t<khaiValue>43</khaiValue>\\r\\n\\t\\t\\t\\t\\t<khaiGrade>1</khaiGrade>\\r\\n\\t\\t\\t\\t\\t<so2Grade>1</so2Grade>\\r\\n\\t\\t\\t\\t\\t<coGrade>1</coGrade>\\r\\n\\t\\t\\t\\t\\t<o3Grade>1</o3Grade>\\r\\n\\t\\t\\t\\t\\t<no2Grade>1</no2Grade>\\r\\n\\t\\t\\t\\t\\t<pm10Grade>1</pm10Grade>\\r\\n\\t\\t\\t\\t\\t\\r\\n                        <pm25Grade>1</pm25Grade>\\r\\n                    \\r\\n                    \\r\\n                        <pm10Grade1h>1</pm10Grade1h>\\r\\n                        <pm25Grade1h>1</pm25Grade1h>\\r\\n                    \\r\\n\\t\\t\\t\\t</item>\\r\\n\\t\\t\\t\\r\\n\\t\\t\\t\\t<item>\\r\\n\\t\\t\\t\\t\\t<dataTime>2018-07-16 05:00</dataTime>\\r\\n\\t\\t\\t\\t\\t\\r\\n                        <mangName>\\xeb\\x8f\\x84\\xec\\x8b\\x9c\\xeb\\x8c\\x80\\xea\\xb8\\xb0</mangName>\\r\\n                    \\r\\n\\t\\t\\t\\t\\t<so2Value>0.002</so2Value>\\r\\n\\t\\t\\t\\t\\t<coValue>0.4</coValue>\\r\\n\\t\\t\\t\\t\\t<o3Value>0.006</o3Value>\\r\\n\\t\\t\\t\\t\\t<no2Value>0.008</no2Value>\\r\\n\\t\\t\\t\\t\\t<pm10Value>19</pm10Value>\\r\\n\\t\\t\\t\\t\\t\\r\\n                        <pm10Value24>21</pm10Value24>\\r\\n                    \\r\\n\\t\\t\\t\\t\\t\\r\\n                        <pm25Value>11</pm25Value>\\r\\n                    \\r\\n                    \\r\\n                        <pm25Value24>14</pm25Value24>\\r\\n                    \\r\\n\\t\\t\\t\\t\\t<khaiValue>47</khaiValue>\\r\\n\\t\\t\\t\\t\\t<khaiGrade>1</khaiGrade>\\r\\n\\t\\t\\t\\t\\t<so2Grade>1</so2Grade>\\r\\n\\t\\t\\t\\t\\t<coGrade>1</coGrade>\\r\\n\\t\\t\\t\\t\\t<o3Grade>1</o3Grade>\\r\\n\\t\\t\\t\\t\\t<no2Grade>1</no2Grade>\\r\\n\\t\\t\\t\\t\\t<pm10Grade>1</pm10Grade>\\r\\n\\t\\t\\t\\t\\t\\r\\n                        <pm25Grade>1</pm25Grade>\\r\\n                    \\r\\n                    \\r\\n                        <pm10Grade1h>1</pm10Grade1h>\\r\\n                        <pm25Grade1h>1</pm25Grade1h>\\r\\n                    \\r\\n\\t\\t\\t\\t</item>\\r\\n\\t\\t\\t\\r\\n\\t\\t\\t\\t<item>\\r\\n\\t\\t\\t\\t\\t<dataTime>2018-07-16 04:00</dataTime>\\r\\n\\t\\t\\t\\t\\t\\r\\n                        <mangName>\\xeb\\x8f\\x84\\xec\\x8b\\x9c\\xeb\\x8c\\x80\\xea\\xb8\\xb0</mangName>\\r\\n                    \\r\\n\\t\\t\\t\\t\\t<so2Value>0.002</so2Value>\\r\\n\\t\\t\\t\\t\\t<coValue>0.4</coValue>\\r\\n\\t\\t\\t\\t\\t<o3Value>0.007</o3Value>\\r\\n\\t\\t\\t\\t\\t<no2Value>0.009</no2Value>\\r\\n\\t\\t\\t\\t\\t<pm10Value>16</pm10Value>\\r\\n\\t\\t\\t\\t\\t\\r\\n                        <pm10Value24>23</pm10Value24>\\r\\n                    \\r\\n\\t\\t\\t\\t\\t\\r\\n                        <pm25Value>10</pm25Value>\\r\\n                    \\r\\n                    \\r\\n                        <pm25Value24>14</pm25Value24>\\r\\n                    \\r\\n\\t\\t\\t\\t\\t<khaiValue>47</khaiValue>\\r\\n\\t\\t\\t\\t\\t<khaiGrade>1</khaiGrade>\\r\\n\\t\\t\\t\\t\\t<so2Grade>1</so2Grade>\\r\\n\\t\\t\\t\\t\\t<coGrade>1</coGrade>\\r\\n\\t\\t\\t\\t\\t<o3Grade>1</o3Grade>\\r\\n\\t\\t\\t\\t\\t<no2Grade>1</no2Grade>\\r\\n\\t\\t\\t\\t\\t<pm10Grade>1</pm10Grade>\\r\\n\\t\\t\\t\\t\\t\\r\\n                        <pm25Grade>1</pm25Grade>\\r\\n                    \\r\\n                    \\r\\n                        <pm10Grade1h>1</pm10Grade1h>\\r\\n                        <pm25Grade1h>1</pm25Grade1h>\\r\\n                    \\r\\n\\t\\t\\t\\t</item>\\r\\n\\t\\t\\t\\r\\n\\t\\t\\t\\t<item>\\r\\n\\t\\t\\t\\t\\t<dataTime>2018-07-16 03:00</dataTime>\\r\\n\\t\\t\\t\\t\\t\\r\\n                        <mangName>\\xeb\\x8f\\x84\\xec\\x8b\\x9c\\xeb\\x8c\\x80\\xea\\xb8\\xb0</mangName>\\r\\n                    \\r\\n\\t\\t\\t\\t\\t<so2Value>0.003</so2Value>\\r\\n\\t\\t\\t\\t\\t<coValue>0.4</coValue>\\r\\n\\t\\t\\t\\t\\t<o3Value>0.006</o3Value>\\r\\n\\t\\t\\t\\t\\t<no2Value>0.012</no2Value>\\r\\n\\t\\t\\t\\t\\t<pm10Value>23</pm10Value>\\r\\n\\t\\t\\t\\t\\t\\r\\n                        <pm10Value24>25</pm10Value24>\\r\\n                    \\r\\n\\t\\t\\t\\t\\t\\r\\n                        <pm25Value>15</pm25Value>\\r\\n                    \\r\\n                    \\r\\n                        <pm25Value24>16</pm25Value24>\\r\\n                    \\r\\n\\t\\t\\t\\t\\t<khaiValue>51</khaiValue>\\r\\n\\t\\t\\t\\t\\t<khaiGrade>2</khaiGrade>\\r\\n\\t\\t\\t\\t\\t<so2Grade>1</so2Grade>\\r\\n\\t\\t\\t\\t\\t<coGrade>1</coGrade>\\r\\n\\t\\t\\t\\t\\t<o3Grade>1</o3Grade>\\r\\n\\t\\t\\t\\t\\t<no2Grade>1</no2Grade>\\r\\n\\t\\t\\t\\t\\t<pm10Grade>1</pm10Grade>\\r\\n\\t\\t\\t\\t\\t\\r\\n                        <pm25Grade>2</pm25Grade>\\r\\n                    \\r\\n                    \\r\\n                        <pm10Grade1h>1</pm10Grade1h>\\r\\n                        <pm25Grade1h>1</pm25Grade1h>\\r\\n                    \\r\\n\\t\\t\\t\\t</item>\\r\\n\\t\\t\\t\\r\\n\\t\\t\\t\\t<item>\\r\\n\\t\\t\\t\\t\\t<dataTime>2018-07-16 02:00</dataTime>\\r\\n\\t\\t\\t\\t\\t\\r\\n                        <mangName>\\xeb\\x8f\\x84\\xec\\x8b\\x9c\\xeb\\x8c\\x80\\xea\\xb8\\xb0</mangName>\\r\\n                    \\r\\n\\t\\t\\t\\t\\t<so2Value>0.002</so2Value>\\r\\n\\t\\t\\t\\t\\t<coValue>0.4</coValue>\\r\\n\\t\\t\\t\\t\\t<o3Value>0.006</o3Value>\\r\\n\\t\\t\\t\\t\\t<no2Value>0.014</no2Value>\\r\\n\\t\\t\\t\\t\\t<pm10Value>21</pm10Value>\\r\\n\\t\\t\\t\\t\\t\\r\\n                        <pm10Value24>26</pm10Value24>\\r\\n                    \\r\\n\\t\\t\\t\\t\\t\\r\\n                        <pm25Value>13</pm25Value>\\r\\n                    \\r\\n                    \\r\\n                        <pm25Value24>16</pm25Value24>\\r\\n                    \\r\\n\\t\\t\\t\\t\\t<khaiValue>51</khaiValue>\\r\\n\\t\\t\\t\\t\\t<khaiGrade>2</khaiGrade>\\r\\n\\t\\t\\t\\t\\t<so2Grade>1</so2Grade>\\r\\n\\t\\t\\t\\t\\t<coGrade>1</coGrade>\\r\\n\\t\\t\\t\\t\\t<o3Grade>1</o3Grade>\\r\\n\\t\\t\\t\\t\\t<no2Grade>1</no2Grade>\\r\\n\\t\\t\\t\\t\\t<pm10Grade>1</pm10Grade>\\r\\n\\t\\t\\t\\t\\t\\r\\n                        <pm25Grade>2</pm25Grade>\\r\\n                    \\r\\n                    \\r\\n                        <pm10Grade1h>1</pm10Grade1h>\\r\\n                        <pm25Grade1h>1</pm25Grade1h>\\r\\n                    \\r\\n\\t\\t\\t\\t</item>\\r\\n\\t\\t\\t\\r\\n\\t\\t</items>\\r\\n\\t\\t\\t<numOfRows>10</numOfRows>\\r\\n\\t\\t\\t<pageNo>1</pageNo>\\r\\n\\t\\t\\t<totalCount>23</totalCount>\\r\\n\\t</body>\\r\\n</response>\\r\\n'"
      ]
     },
     "execution_count": 116,
     "metadata": {},
     "output_type": "execute_result"
    }
   ],
   "source": [
    "resResult"
   ]
  },
  {
   "cell_type": "code",
   "execution_count": 117,
   "metadata": {},
   "outputs": [],
   "source": [
    "xml = etree.fromstring(resResult)"
   ]
  },
  {
   "cell_type": "code",
   "execution_count": 118,
   "metadata": {},
   "outputs": [],
   "source": [
    "xmlTree = etree.ElementTree(xml)"
   ]
  },
  {
   "cell_type": "code",
   "execution_count": 119,
   "metadata": {},
   "outputs": [
    {
     "data": {
      "text/plain": [
       "lxml.etree._Element"
      ]
     },
     "execution_count": 119,
     "metadata": {},
     "output_type": "execute_result"
    }
   ],
   "source": [
    "type(xml)"
   ]
  },
  {
   "cell_type": "code",
   "execution_count": 120,
   "metadata": {},
   "outputs": [
    {
     "data": {
      "text/plain": [
       "lxml.etree._ElementTree"
      ]
     },
     "execution_count": 120,
     "metadata": {},
     "output_type": "execute_result"
    }
   ],
   "source": [
    "# xml 을 가지고 파싱한 트리\n",
    "type(xmlTree)"
   ]
  },
  {
   "cell_type": "code",
   "execution_count": 121,
   "metadata": {},
   "outputs": [],
   "source": [
    "root = xmlTree.getroot()"
   ]
  },
  {
   "cell_type": "code",
   "execution_count": 122,
   "metadata": {},
   "outputs": [
    {
     "data": {
      "text/plain": [
       "lxml.etree._Element"
      ]
     },
     "execution_count": 122,
     "metadata": {},
     "output_type": "execute_result"
    }
   ],
   "source": [
    "type(root)"
   ]
  },
  {
   "cell_type": "code",
   "execution_count": 123,
   "metadata": {},
   "outputs": [
    {
     "name": "stdout",
     "output_type": "stream",
     "text": [
      "<response>\n",
      "\t<header>\n",
      "\t\t<resultCode>00</resultCode>\n",
      "\t\t<resultMsg>NORMAL SERVICE.</resultMsg>\n",
      "\t</header>\n",
      "\t<body>\n",
      "\t\t<items>\n",
      "\t\t\t\n",
      "\t\t\t\t<item>\n",
      "\t\t\t\t\t<dataTime>2018-07-16 11:00</dataTime>\n",
      "\t\t\t\t\t\n",
      "                        <mangName>도시대기</mangName>\n",
      "                    \n",
      "\t\t\t\t\t<so2Value>0.003</so2Value>\n",
      "\t\t\t\t\t<coValue>0.5</coValue>\n",
      "\t\t\t\t\t<o3Value>0.011</o3Value>\n",
      "\t\t\t\t\t<no2Value>0.027</no2Value>\n",
      "\t\t\t\t\t<pm10Value>29</pm10Value>\n",
      "\t\t\t\t\t\n",
      "                        <pm10Value24>26</pm10Value24>\n",
      "                    \n",
      "\t\t\t\t\t\n",
      "                        <pm25Value>10</pm25Value>\n",
      "                    \n",
      "                    \n",
      "                        <pm25Value24>12</pm25Value24>\n",
      "                    \n",
      "\t\t\t\t\t<khaiValue>45</khaiValue>\n",
      "\t\t\t\t\t<khaiGrade>1</khaiGrade>\n",
      "\t\t\t\t\t<so2Grade>1</so2Grade>\n",
      "\t\t\t\t\t<coGrade>1</coGrade>\n",
      "\t\t\t\t\t<o3Grade>1</o3Grade>\n",
      "\t\t\t\t\t<no2Grade>1</no2Grade>\n",
      "\t\t\t\t\t<pm10Grade>1</pm10Grade>\n",
      "\t\t\t\t\t\n",
      "                        <pm25Grade>1</pm25Grade>\n",
      "                    \n",
      "                    \n",
      "                        <pm10Grade1h>1</pm10Grade1h>\n",
      "                        <pm25Grade1h>1</pm25Grade1h>\n",
      "                    \n",
      "\t\t\t\t</item>\n",
      "\t\t\t\n",
      "\t\t\t\t<item>\n",
      "\t\t\t\t\t<dataTime>2018-07-16 10:00</dataTime>\n",
      "\t\t\t\t\t\n",
      "                        <mangName>도시대기</mangName>\n",
      "                    \n",
      "\t\t\t\t\t<so2Value>0.003</so2Value>\n",
      "\t\t\t\t\t<coValue>0.5</coValue>\n",
      "\t\t\t\t\t<o3Value>0.009</o3Value>\n",
      "\t\t\t\t\t<no2Value>0.024</no2Value>\n",
      "\t\t\t\t\t<pm10Value>26</pm10Value>\n",
      "\t\t\t\t\t\n",
      "                        <pm10Value24>24</pm10Value24>\n",
      "                    \n",
      "\t\t\t\t\t\n",
      "                        <pm25Value>-</pm25Value>\n",
      "                    \n",
      "                    \n",
      "                        <pm25Value24>12</pm25Value24>\n",
      "                    \n",
      "\t\t\t\t\t<khaiValue>40</khaiValue>\n",
      "\t\t\t\t\t<khaiGrade>1</khaiGrade>\n",
      "\t\t\t\t\t<so2Grade>1</so2Grade>\n",
      "\t\t\t\t\t<coGrade>1</coGrade>\n",
      "\t\t\t\t\t<o3Grade>1</o3Grade>\n",
      "\t\t\t\t\t<no2Grade>1</no2Grade>\n",
      "\t\t\t\t\t<pm10Grade>1</pm10Grade>\n",
      "\t\t\t\t\t\n",
      "                        <pm25Grade>1</pm25Grade>\n",
      "                    \n",
      "                    \n",
      "                        <pm10Grade1h>1</pm10Grade1h>\n",
      "                        <pm25Grade1h/>\n",
      "                    \n",
      "\t\t\t\t</item>\n",
      "\t\t\t\n",
      "\t\t\t\t<item>\n",
      "\t\t\t\t\t<dataTime>2018-07-16 09:00</dataTime>\n",
      "\t\t\t\t\t\n",
      "                        <mangName>도시대기</mangName>\n",
      "                    \n",
      "\t\t\t\t\t<so2Value>0.003</so2Value>\n",
      "\t\t\t\t\t<coValue>0.5</coValue>\n",
      "\t\t\t\t\t<o3Value>0.007</o3Value>\n",
      "\t\t\t\t\t<no2Value>0.023</no2Value>\n",
      "\t\t\t\t\t<pm10Value>35</pm10Value>\n",
      "\t\t\t\t\t\n",
      "                        <pm10Value24>23</pm10Value24>\n",
      "                    \n",
      "\t\t\t\t\t\n",
      "                        <pm25Value>11</pm25Value>\n",
      "                    \n",
      "                    \n",
      "                        <pm25Value24>12</pm25Value24>\n",
      "                    \n",
      "\t\t\t\t\t<khaiValue>40</khaiValue>\n",
      "\t\t\t\t\t<khaiGrade>1</khaiGrade>\n",
      "\t\t\t\t\t<so2Grade>1</so2Grade>\n",
      "\t\t\t\t\t<coGrade>1</coGrade>\n",
      "\t\t\t\t\t<o3Grade>1</o3Grade>\n",
      "\t\t\t\t\t<no2Grade>1</no2Grade>\n",
      "\t\t\t\t\t<pm10Grade>1</pm10Grade>\n",
      "\t\t\t\t\t\n",
      "                        <pm25Grade>1</pm25Grade>\n",
      "                    \n",
      "                    \n",
      "                        <pm10Grade1h>2</pm10Grade1h>\n",
      "                        <pm25Grade1h>1</pm25Grade1h>\n",
      "                    \n",
      "\t\t\t\t</item>\n",
      "\t\t\t\n",
      "\t\t\t\t<item>\n",
      "\t\t\t\t\t<dataTime>2018-07-16 08:00</dataTime>\n",
      "\t\t\t\t\t\n",
      "                        <mangName>도시대기</mangName>\n",
      "                    \n",
      "\t\t\t\t\t<so2Value>0.003</so2Value>\n",
      "\t\t\t\t\t<coValue>0.5</coValue>\n",
      "\t\t\t\t\t<o3Value>0.004</o3Value>\n",
      "\t\t\t\t\t<no2Value>0.019</no2Value>\n",
      "\t\t\t\t\t<pm10Value>23</pm10Value>\n",
      "\t\t\t\t\t\n",
      "                        <pm10Value24>20</pm10Value24>\n",
      "                    \n",
      "\t\t\t\t\t\n",
      "                        <pm25Value>12</pm25Value>\n",
      "                    \n",
      "                    \n",
      "                        <pm25Value24>12</pm25Value24>\n",
      "                    \n",
      "\t\t\t\t\t<khaiValue>40</khaiValue>\n",
      "\t\t\t\t\t<khaiGrade>1</khaiGrade>\n",
      "\t\t\t\t\t<so2Grade>1</so2Grade>\n",
      "\t\t\t\t\t<coGrade>1</coGrade>\n",
      "\t\t\t\t\t<o3Grade>1</o3Grade>\n",
      "\t\t\t\t\t<no2Grade>1</no2Grade>\n",
      "\t\t\t\t\t<pm10Grade>1</pm10Grade>\n",
      "\t\t\t\t\t\n",
      "                        <pm25Grade>1</pm25Grade>\n",
      "                    \n",
      "                    \n",
      "                        <pm10Grade1h>1</pm10Grade1h>\n",
      "                        <pm25Grade1h>1</pm25Grade1h>\n",
      "                    \n",
      "\t\t\t\t</item>\n",
      "\t\t\t\n",
      "\t\t\t\t<item>\n",
      "\t\t\t\t\t<dataTime>2018-07-16 07:00</dataTime>\n",
      "\t\t\t\t\t\n",
      "                        <mangName>도시대기</mangName>\n",
      "                    \n",
      "\t\t\t\t\t<so2Value>0.002</so2Value>\n",
      "\t\t\t\t\t<coValue>0.6</coValue>\n",
      "\t\t\t\t\t<o3Value>0.003</o3Value>\n",
      "\t\t\t\t\t<no2Value>0.016</no2Value>\n",
      "\t\t\t\t\t<pm10Value>17</pm10Value>\n",
      "\t\t\t\t\t\n",
      "                        <pm10Value24>20</pm10Value24>\n",
      "                    \n",
      "\t\t\t\t\t\n",
      "                        <pm25Value>14</pm25Value>\n",
      "                    \n",
      "                    \n",
      "                        <pm25Value24>12</pm25Value24>\n",
      "                    \n",
      "\t\t\t\t\t<khaiValue>40</khaiValue>\n",
      "\t\t\t\t\t<khaiGrade>1</khaiGrade>\n",
      "\t\t\t\t\t<so2Grade>1</so2Grade>\n",
      "\t\t\t\t\t<coGrade>1</coGrade>\n",
      "\t\t\t\t\t<o3Grade>1</o3Grade>\n",
      "\t\t\t\t\t<no2Grade>1</no2Grade>\n",
      "\t\t\t\t\t<pm10Grade>1</pm10Grade>\n",
      "\t\t\t\t\t\n",
      "                        <pm25Grade>1</pm25Grade>\n",
      "                    \n",
      "                    \n",
      "                        <pm10Grade1h>1</pm10Grade1h>\n",
      "                        <pm25Grade1h>1</pm25Grade1h>\n",
      "                    \n",
      "\t\t\t\t</item>\n",
      "\t\t\t\n",
      "\t\t\t\t<item>\n",
      "\t\t\t\t\t<dataTime>2018-07-16 06:00</dataTime>\n",
      "\t\t\t\t\t\n",
      "                        <mangName>도시대기</mangName>\n",
      "                    \n",
      "\t\t\t\t\t<so2Value>0.002</so2Value>\n",
      "\t\t\t\t\t<coValue>0.4</coValue>\n",
      "\t\t\t\t\t<o3Value>0.003</o3Value>\n",
      "\t\t\t\t\t<no2Value>0.013</no2Value>\n",
      "\t\t\t\t\t<pm10Value>22</pm10Value>\n",
      "\t\t\t\t\t\n",
      "                        <pm10Value24>21</pm10Value24>\n",
      "                    \n",
      "\t\t\t\t\t\n",
      "                        <pm25Value>8</pm25Value>\n",
      "                    \n",
      "                    \n",
      "                        <pm25Value24>13</pm25Value24>\n",
      "                    \n",
      "\t\t\t\t\t<khaiValue>43</khaiValue>\n",
      "\t\t\t\t\t<khaiGrade>1</khaiGrade>\n",
      "\t\t\t\t\t<so2Grade>1</so2Grade>\n",
      "\t\t\t\t\t<coGrade>1</coGrade>\n",
      "\t\t\t\t\t<o3Grade>1</o3Grade>\n",
      "\t\t\t\t\t<no2Grade>1</no2Grade>\n",
      "\t\t\t\t\t<pm10Grade>1</pm10Grade>\n",
      "\t\t\t\t\t\n",
      "                        <pm25Grade>1</pm25Grade>\n",
      "                    \n",
      "                    \n",
      "                        <pm10Grade1h>1</pm10Grade1h>\n",
      "                        <pm25Grade1h>1</pm25Grade1h>\n",
      "                    \n",
      "\t\t\t\t</item>\n",
      "\t\t\t\n",
      "\t\t\t\t<item>\n",
      "\t\t\t\t\t<dataTime>2018-07-16 05:00</dataTime>\n",
      "\t\t\t\t\t\n",
      "                        <mangName>도시대기</mangName>\n",
      "                    \n",
      "\t\t\t\t\t<so2Value>0.002</so2Value>\n",
      "\t\t\t\t\t<coValue>0.4</coValue>\n",
      "\t\t\t\t\t<o3Value>0.006</o3Value>\n",
      "\t\t\t\t\t<no2Value>0.008</no2Value>\n",
      "\t\t\t\t\t<pm10Value>19</pm10Value>\n",
      "\t\t\t\t\t\n",
      "                        <pm10Value24>21</pm10Value24>\n",
      "                    \n",
      "\t\t\t\t\t\n",
      "                        <pm25Value>11</pm25Value>\n",
      "                    \n",
      "                    \n",
      "                        <pm25Value24>14</pm25Value24>\n",
      "                    \n",
      "\t\t\t\t\t<khaiValue>47</khaiValue>\n",
      "\t\t\t\t\t<khaiGrade>1</khaiGrade>\n",
      "\t\t\t\t\t<so2Grade>1</so2Grade>\n",
      "\t\t\t\t\t<coGrade>1</coGrade>\n",
      "\t\t\t\t\t<o3Grade>1</o3Grade>\n",
      "\t\t\t\t\t<no2Grade>1</no2Grade>\n",
      "\t\t\t\t\t<pm10Grade>1</pm10Grade>\n",
      "\t\t\t\t\t\n",
      "                        <pm25Grade>1</pm25Grade>\n",
      "                    \n",
      "                    \n",
      "                        <pm10Grade1h>1</pm10Grade1h>\n",
      "                        <pm25Grade1h>1</pm25Grade1h>\n",
      "                    \n",
      "\t\t\t\t</item>\n",
      "\t\t\t\n",
      "\t\t\t\t<item>\n",
      "\t\t\t\t\t<dataTime>2018-07-16 04:00</dataTime>\n",
      "\t\t\t\t\t\n",
      "                        <mangName>도시대기</mangName>\n",
      "                    \n",
      "\t\t\t\t\t<so2Value>0.002</so2Value>\n",
      "\t\t\t\t\t<coValue>0.4</coValue>\n",
      "\t\t\t\t\t<o3Value>0.007</o3Value>\n",
      "\t\t\t\t\t<no2Value>0.009</no2Value>\n",
      "\t\t\t\t\t<pm10Value>16</pm10Value>\n",
      "\t\t\t\t\t\n",
      "                        <pm10Value24>23</pm10Value24>\n",
      "                    \n",
      "\t\t\t\t\t\n",
      "                        <pm25Value>10</pm25Value>\n",
      "                    \n",
      "                    \n",
      "                        <pm25Value24>14</pm25Value24>\n",
      "                    \n",
      "\t\t\t\t\t<khaiValue>47</khaiValue>\n",
      "\t\t\t\t\t<khaiGrade>1</khaiGrade>\n",
      "\t\t\t\t\t<so2Grade>1</so2Grade>\n",
      "\t\t\t\t\t<coGrade>1</coGrade>\n",
      "\t\t\t\t\t<o3Grade>1</o3Grade>\n",
      "\t\t\t\t\t<no2Grade>1</no2Grade>\n",
      "\t\t\t\t\t<pm10Grade>1</pm10Grade>\n",
      "\t\t\t\t\t\n",
      "                        <pm25Grade>1</pm25Grade>\n",
      "                    \n",
      "                    \n",
      "                        <pm10Grade1h>1</pm10Grade1h>\n",
      "                        <pm25Grade1h>1</pm25Grade1h>\n",
      "                    \n",
      "\t\t\t\t</item>\n",
      "\t\t\t\n",
      "\t\t\t\t<item>\n",
      "\t\t\t\t\t<dataTime>2018-07-16 03:00</dataTime>\n",
      "\t\t\t\t\t\n",
      "                        <mangName>도시대기</mangName>\n",
      "                    \n",
      "\t\t\t\t\t<so2Value>0.003</so2Value>\n",
      "\t\t\t\t\t<coValue>0.4</coValue>\n",
      "\t\t\t\t\t<o3Value>0.006</o3Value>\n",
      "\t\t\t\t\t<no2Value>0.012</no2Value>\n",
      "\t\t\t\t\t<pm10Value>23</pm10Value>\n",
      "\t\t\t\t\t\n",
      "                        <pm10Value24>25</pm10Value24>\n",
      "                    \n",
      "\t\t\t\t\t\n",
      "                        <pm25Value>15</pm25Value>\n",
      "                    \n",
      "                    \n",
      "                        <pm25Value24>16</pm25Value24>\n",
      "                    \n",
      "\t\t\t\t\t<khaiValue>51</khaiValue>\n",
      "\t\t\t\t\t<khaiGrade>2</khaiGrade>\n",
      "\t\t\t\t\t<so2Grade>1</so2Grade>\n",
      "\t\t\t\t\t<coGrade>1</coGrade>\n",
      "\t\t\t\t\t<o3Grade>1</o3Grade>\n",
      "\t\t\t\t\t<no2Grade>1</no2Grade>\n",
      "\t\t\t\t\t<pm10Grade>1</pm10Grade>\n",
      "\t\t\t\t\t\n",
      "                        <pm25Grade>2</pm25Grade>\n",
      "                    \n",
      "                    \n",
      "                        <pm10Grade1h>1</pm10Grade1h>\n",
      "                        <pm25Grade1h>1</pm25Grade1h>\n",
      "                    \n",
      "\t\t\t\t</item>\n",
      "\t\t\t\n",
      "\t\t\t\t<item>\n",
      "\t\t\t\t\t<dataTime>2018-07-16 02:00</dataTime>\n",
      "\t\t\t\t\t\n",
      "                        <mangName>도시대기</mangName>\n",
      "                    \n",
      "\t\t\t\t\t<so2Value>0.002</so2Value>\n",
      "\t\t\t\t\t<coValue>0.4</coValue>\n",
      "\t\t\t\t\t<o3Value>0.006</o3Value>\n",
      "\t\t\t\t\t<no2Value>0.014</no2Value>\n",
      "\t\t\t\t\t<pm10Value>21</pm10Value>\n",
      "\t\t\t\t\t\n",
      "                        <pm10Value24>26</pm10Value24>\n",
      "                    \n",
      "\t\t\t\t\t\n",
      "                        <pm25Value>13</pm25Value>\n",
      "                    \n",
      "                    \n",
      "                        <pm25Value24>16</pm25Value24>\n",
      "                    \n",
      "\t\t\t\t\t<khaiValue>51</khaiValue>\n",
      "\t\t\t\t\t<khaiGrade>2</khaiGrade>\n",
      "\t\t\t\t\t<so2Grade>1</so2Grade>\n",
      "\t\t\t\t\t<coGrade>1</coGrade>\n",
      "\t\t\t\t\t<o3Grade>1</o3Grade>\n",
      "\t\t\t\t\t<no2Grade>1</no2Grade>\n",
      "\t\t\t\t\t<pm10Grade>1</pm10Grade>\n",
      "\t\t\t\t\t\n",
      "                        <pm25Grade>2</pm25Grade>\n",
      "                    \n",
      "                    \n",
      "                        <pm10Grade1h>1</pm10Grade1h>\n",
      "                        <pm25Grade1h>1</pm25Grade1h>\n",
      "                    \n",
      "\t\t\t\t</item>\n",
      "\t\t\t\n",
      "\t\t</items>\n",
      "\t\t\t<numOfRows>10</numOfRows>\n",
      "\t\t\t<pageNo>1</pageNo>\n",
      "\t\t\t<totalCount>23</totalCount>\n",
      "\t</body>\n",
      "</response>\n"
     ]
    }
   ],
   "source": [
    "etree.dump(xml)"
   ]
  },
  {
   "cell_type": "code",
   "execution_count": 124,
   "metadata": {},
   "outputs": [],
   "source": [
    "# items 를 가져온다 \n",
    "# 현재 주소 아래 있는 모든 item을 가져온다\n",
    "items = root.findall(\".//item\")"
   ]
  },
  {
   "cell_type": "code",
   "execution_count": 125,
   "metadata": {},
   "outputs": [
    {
     "name": "stdout",
     "output_type": "stream",
     "text": [
      "<Element item at 0x1e12e1d9148>\n",
      "<Element item at 0x1e12e1d9088>\n",
      "<Element item at 0x1e12e1d9f88>\n",
      "<Element item at 0x1e12e1d9308>\n",
      "<Element item at 0x1e12e1d9048>\n",
      "<Element item at 0x1e12e021748>\n",
      "<Element item at 0x1e12e021f88>\n",
      "<Element item at 0x1e12e2663c8>\n",
      "<Element item at 0x1e12e266348>\n",
      "<Element item at 0x1e12e266188>\n"
     ]
    }
   ],
   "source": [
    "for item in items:\n",
    "    print(item)"
   ]
  },
  {
   "cell_type": "code",
   "execution_count": 126,
   "metadata": {},
   "outputs": [
    {
     "name": "stdout",
     "output_type": "stream",
     "text": [
      "20\n",
      "dataTime 2018-07-16 11:00\n",
      "mangName 도시대기\n",
      "so2Value 0.003\n",
      "coValue 0.5\n",
      "o3Value 0.011\n",
      "no2Value 0.027\n",
      "pm10Value 29\n",
      "pm10Value24 26\n",
      "pm25Value 10\n",
      "pm25Value24 12\n",
      "khaiValue 45\n",
      "khaiGrade 1\n",
      "so2Grade 1\n",
      "coGrade 1\n",
      "o3Grade 1\n",
      "no2Grade 1\n",
      "pm10Grade 1\n",
      "pm25Grade 1\n",
      "pm10Grade1h 1\n",
      "pm25Grade1h 1\n",
      "20\n",
      "dataTime 2018-07-16 10:00\n",
      "mangName 도시대기\n",
      "so2Value 0.003\n",
      "coValue 0.5\n",
      "o3Value 0.009\n",
      "no2Value 0.024\n",
      "pm10Value 26\n",
      "pm10Value24 24\n",
      "pm25Value -\n",
      "pm25Value24 12\n",
      "khaiValue 40\n",
      "khaiGrade 1\n",
      "so2Grade 1\n",
      "coGrade 1\n",
      "o3Grade 1\n",
      "no2Grade 1\n",
      "pm10Grade 1\n",
      "pm25Grade 1\n",
      "pm10Grade1h 1\n",
      "pm25Grade1h None\n",
      "20\n",
      "dataTime 2018-07-16 09:00\n",
      "mangName 도시대기\n",
      "so2Value 0.003\n",
      "coValue 0.5\n",
      "o3Value 0.007\n",
      "no2Value 0.023\n",
      "pm10Value 35\n",
      "pm10Value24 23\n",
      "pm25Value 11\n",
      "pm25Value24 12\n",
      "khaiValue 40\n",
      "khaiGrade 1\n",
      "so2Grade 1\n",
      "coGrade 1\n",
      "o3Grade 1\n",
      "no2Grade 1\n",
      "pm10Grade 1\n",
      "pm25Grade 1\n",
      "pm10Grade1h 2\n",
      "pm25Grade1h 1\n",
      "20\n",
      "dataTime 2018-07-16 08:00\n",
      "mangName 도시대기\n",
      "so2Value 0.003\n",
      "coValue 0.5\n",
      "o3Value 0.004\n",
      "no2Value 0.019\n",
      "pm10Value 23\n",
      "pm10Value24 20\n",
      "pm25Value 12\n",
      "pm25Value24 12\n",
      "khaiValue 40\n",
      "khaiGrade 1\n",
      "so2Grade 1\n",
      "coGrade 1\n",
      "o3Grade 1\n",
      "no2Grade 1\n",
      "pm10Grade 1\n",
      "pm25Grade 1\n",
      "pm10Grade1h 1\n",
      "pm25Grade1h 1\n",
      "20\n",
      "dataTime 2018-07-16 07:00\n",
      "mangName 도시대기\n",
      "so2Value 0.002\n",
      "coValue 0.6\n",
      "o3Value 0.003\n",
      "no2Value 0.016\n",
      "pm10Value 17\n",
      "pm10Value24 20\n",
      "pm25Value 14\n",
      "pm25Value24 12\n",
      "khaiValue 40\n",
      "khaiGrade 1\n",
      "so2Grade 1\n",
      "coGrade 1\n",
      "o3Grade 1\n",
      "no2Grade 1\n",
      "pm10Grade 1\n",
      "pm25Grade 1\n",
      "pm10Grade1h 1\n",
      "pm25Grade1h 1\n",
      "20\n",
      "dataTime 2018-07-16 06:00\n",
      "mangName 도시대기\n",
      "so2Value 0.002\n",
      "coValue 0.4\n",
      "o3Value 0.003\n",
      "no2Value 0.013\n",
      "pm10Value 22\n",
      "pm10Value24 21\n",
      "pm25Value 8\n",
      "pm25Value24 13\n",
      "khaiValue 43\n",
      "khaiGrade 1\n",
      "so2Grade 1\n",
      "coGrade 1\n",
      "o3Grade 1\n",
      "no2Grade 1\n",
      "pm10Grade 1\n",
      "pm25Grade 1\n",
      "pm10Grade1h 1\n",
      "pm25Grade1h 1\n",
      "20\n",
      "dataTime 2018-07-16 05:00\n",
      "mangName 도시대기\n",
      "so2Value 0.002\n",
      "coValue 0.4\n",
      "o3Value 0.006\n",
      "no2Value 0.008\n",
      "pm10Value 19\n",
      "pm10Value24 21\n",
      "pm25Value 11\n",
      "pm25Value24 14\n",
      "khaiValue 47\n",
      "khaiGrade 1\n",
      "so2Grade 1\n",
      "coGrade 1\n",
      "o3Grade 1\n",
      "no2Grade 1\n",
      "pm10Grade 1\n",
      "pm25Grade 1\n",
      "pm10Grade1h 1\n",
      "pm25Grade1h 1\n",
      "20\n",
      "dataTime 2018-07-16 04:00\n",
      "mangName 도시대기\n",
      "so2Value 0.002\n",
      "coValue 0.4\n",
      "o3Value 0.007\n",
      "no2Value 0.009\n",
      "pm10Value 16\n",
      "pm10Value24 23\n",
      "pm25Value 10\n",
      "pm25Value24 14\n",
      "khaiValue 47\n",
      "khaiGrade 1\n",
      "so2Grade 1\n",
      "coGrade 1\n",
      "o3Grade 1\n",
      "no2Grade 1\n",
      "pm10Grade 1\n",
      "pm25Grade 1\n",
      "pm10Grade1h 1\n",
      "pm25Grade1h 1\n",
      "20\n",
      "dataTime 2018-07-16 03:00\n",
      "mangName 도시대기\n",
      "so2Value 0.003\n",
      "coValue 0.4\n",
      "o3Value 0.006\n",
      "no2Value 0.012\n",
      "pm10Value 23\n",
      "pm10Value24 25\n",
      "pm25Value 15\n",
      "pm25Value24 16\n",
      "khaiValue 51\n",
      "khaiGrade 2\n",
      "so2Grade 1\n",
      "coGrade 1\n",
      "o3Grade 1\n",
      "no2Grade 1\n",
      "pm10Grade 1\n",
      "pm25Grade 2\n",
      "pm10Grade1h 1\n",
      "pm25Grade1h 1\n",
      "20\n",
      "dataTime 2018-07-16 02:00\n",
      "mangName 도시대기\n",
      "so2Value 0.002\n",
      "coValue 0.4\n",
      "o3Value 0.006\n",
      "no2Value 0.014\n",
      "pm10Value 21\n",
      "pm10Value24 26\n",
      "pm25Value 13\n",
      "pm25Value24 16\n",
      "khaiValue 51\n",
      "khaiGrade 2\n",
      "so2Grade 1\n",
      "coGrade 1\n",
      "o3Grade 1\n",
      "no2Grade 1\n",
      "pm10Grade 1\n",
      "pm25Grade 2\n",
      "pm10Grade1h 1\n",
      "pm25Grade1h 1\n"
     ]
    }
   ],
   "source": [
    "for item in items:\n",
    "    print(len(item))\n",
    "    for i in range(len(item)):\n",
    "        # tag 의 이름을 가져옴 , 값을 가져올때는 text \n",
    "        print(item[i].tag, item[i].text)"
   ]
  },
  {
   "cell_type": "code",
   "execution_count": 127,
   "metadata": {},
   "outputs": [],
   "source": [
    "pm10List = root.findall(\".//item/pm10Value\")"
   ]
  },
  {
   "cell_type": "code",
   "execution_count": 128,
   "metadata": {},
   "outputs": [
    {
     "data": {
      "text/plain": [
       "10"
      ]
     },
     "execution_count": 128,
     "metadata": {},
     "output_type": "execute_result"
    }
   ],
   "source": [
    "len(pm10List)"
   ]
  },
  {
   "cell_type": "code",
   "execution_count": 129,
   "metadata": {},
   "outputs": [
    {
     "name": "stdout",
     "output_type": "stream",
     "text": [
      "pm10Value 29\n",
      "pm10Value 26\n",
      "pm10Value 35\n",
      "pm10Value 23\n",
      "pm10Value 17\n",
      "pm10Value 22\n",
      "pm10Value 19\n",
      "pm10Value 16\n",
      "pm10Value 23\n",
      "pm10Value 21\n"
     ]
    }
   ],
   "source": [
    "for row in pm10List:\n",
    "    print(row.tag, row.text )"
   ]
  },
  {
   "cell_type": "markdown",
   "metadata": {},
   "source": [
    "## 위의 root.findall(\".//item\") = xml.cssselect(\"item\")"
   ]
  },
  {
   "cell_type": "code",
   "execution_count": 130,
   "metadata": {},
   "outputs": [],
   "source": [
    "items = xml.cssselect(\"item\")"
   ]
  },
  {
   "cell_type": "code",
   "execution_count": 131,
   "metadata": {},
   "outputs": [
    {
     "data": {
      "text/plain": [
       "[<Element item at 0x1e12e1d9148>,\n",
       " <Element item at 0x1e12e1d9088>,\n",
       " <Element item at 0x1e12e1d9f88>,\n",
       " <Element item at 0x1e12e1d9308>,\n",
       " <Element item at 0x1e12e1d9048>,\n",
       " <Element item at 0x1e12e021748>,\n",
       " <Element item at 0x1e12e021f88>,\n",
       " <Element item at 0x1e12e2663c8>,\n",
       " <Element item at 0x1e12e266348>,\n",
       " <Element item at 0x1e12e266188>]"
      ]
     },
     "execution_count": 131,
     "metadata": {},
     "output_type": "execute_result"
    }
   ],
   "source": [
    "items"
   ]
  },
  {
   "cell_type": "code",
   "execution_count": 132,
   "metadata": {},
   "outputs": [
    {
     "name": "stdout",
     "output_type": "stream",
     "text": [
      "20\n",
      "dataTime 2018-07-16 11:00\n",
      "mangName 도시대기\n",
      "so2Value 0.003\n",
      "coValue 0.5\n",
      "o3Value 0.011\n",
      "no2Value 0.027\n",
      "pm10Value 29\n",
      "pm10Value24 26\n",
      "pm25Value 10\n",
      "pm25Value24 12\n",
      "khaiValue 45\n",
      "khaiGrade 1\n",
      "so2Grade 1\n",
      "coGrade 1\n",
      "o3Grade 1\n",
      "no2Grade 1\n",
      "pm10Grade 1\n",
      "pm25Grade 1\n",
      "pm10Grade1h 1\n",
      "pm25Grade1h 1\n",
      "20\n",
      "dataTime 2018-07-16 10:00\n",
      "mangName 도시대기\n",
      "so2Value 0.003\n",
      "coValue 0.5\n",
      "o3Value 0.009\n",
      "no2Value 0.024\n",
      "pm10Value 26\n",
      "pm10Value24 24\n",
      "pm25Value -\n",
      "pm25Value24 12\n",
      "khaiValue 40\n",
      "khaiGrade 1\n",
      "so2Grade 1\n",
      "coGrade 1\n",
      "o3Grade 1\n",
      "no2Grade 1\n",
      "pm10Grade 1\n",
      "pm25Grade 1\n",
      "pm10Grade1h 1\n",
      "pm25Grade1h None\n",
      "20\n",
      "dataTime 2018-07-16 09:00\n",
      "mangName 도시대기\n",
      "so2Value 0.003\n",
      "coValue 0.5\n",
      "o3Value 0.007\n",
      "no2Value 0.023\n",
      "pm10Value 35\n",
      "pm10Value24 23\n",
      "pm25Value 11\n",
      "pm25Value24 12\n",
      "khaiValue 40\n",
      "khaiGrade 1\n",
      "so2Grade 1\n",
      "coGrade 1\n",
      "o3Grade 1\n",
      "no2Grade 1\n",
      "pm10Grade 1\n",
      "pm25Grade 1\n",
      "pm10Grade1h 2\n",
      "pm25Grade1h 1\n",
      "20\n",
      "dataTime 2018-07-16 08:00\n",
      "mangName 도시대기\n",
      "so2Value 0.003\n",
      "coValue 0.5\n",
      "o3Value 0.004\n",
      "no2Value 0.019\n",
      "pm10Value 23\n",
      "pm10Value24 20\n",
      "pm25Value 12\n",
      "pm25Value24 12\n",
      "khaiValue 40\n",
      "khaiGrade 1\n",
      "so2Grade 1\n",
      "coGrade 1\n",
      "o3Grade 1\n",
      "no2Grade 1\n",
      "pm10Grade 1\n",
      "pm25Grade 1\n",
      "pm10Grade1h 1\n",
      "pm25Grade1h 1\n",
      "20\n",
      "dataTime 2018-07-16 07:00\n",
      "mangName 도시대기\n",
      "so2Value 0.002\n",
      "coValue 0.6\n",
      "o3Value 0.003\n",
      "no2Value 0.016\n",
      "pm10Value 17\n",
      "pm10Value24 20\n",
      "pm25Value 14\n",
      "pm25Value24 12\n",
      "khaiValue 40\n",
      "khaiGrade 1\n",
      "so2Grade 1\n",
      "coGrade 1\n",
      "o3Grade 1\n",
      "no2Grade 1\n",
      "pm10Grade 1\n",
      "pm25Grade 1\n",
      "pm10Grade1h 1\n",
      "pm25Grade1h 1\n",
      "20\n",
      "dataTime 2018-07-16 06:00\n",
      "mangName 도시대기\n",
      "so2Value 0.002\n",
      "coValue 0.4\n",
      "o3Value 0.003\n",
      "no2Value 0.013\n",
      "pm10Value 22\n",
      "pm10Value24 21\n",
      "pm25Value 8\n",
      "pm25Value24 13\n",
      "khaiValue 43\n",
      "khaiGrade 1\n",
      "so2Grade 1\n",
      "coGrade 1\n",
      "o3Grade 1\n",
      "no2Grade 1\n",
      "pm10Grade 1\n",
      "pm25Grade 1\n",
      "pm10Grade1h 1\n",
      "pm25Grade1h 1\n",
      "20\n",
      "dataTime 2018-07-16 05:00\n",
      "mangName 도시대기\n",
      "so2Value 0.002\n",
      "coValue 0.4\n",
      "o3Value 0.006\n",
      "no2Value 0.008\n",
      "pm10Value 19\n",
      "pm10Value24 21\n",
      "pm25Value 11\n",
      "pm25Value24 14\n",
      "khaiValue 47\n",
      "khaiGrade 1\n",
      "so2Grade 1\n",
      "coGrade 1\n",
      "o3Grade 1\n",
      "no2Grade 1\n",
      "pm10Grade 1\n",
      "pm25Grade 1\n",
      "pm10Grade1h 1\n",
      "pm25Grade1h 1\n",
      "20\n",
      "dataTime 2018-07-16 04:00\n",
      "mangName 도시대기\n",
      "so2Value 0.002\n",
      "coValue 0.4\n",
      "o3Value 0.007\n",
      "no2Value 0.009\n",
      "pm10Value 16\n",
      "pm10Value24 23\n",
      "pm25Value 10\n",
      "pm25Value24 14\n",
      "khaiValue 47\n",
      "khaiGrade 1\n",
      "so2Grade 1\n",
      "coGrade 1\n",
      "o3Grade 1\n",
      "no2Grade 1\n",
      "pm10Grade 1\n",
      "pm25Grade 1\n",
      "pm10Grade1h 1\n",
      "pm25Grade1h 1\n",
      "20\n",
      "dataTime 2018-07-16 03:00\n",
      "mangName 도시대기\n",
      "so2Value 0.003\n",
      "coValue 0.4\n",
      "o3Value 0.006\n",
      "no2Value 0.012\n",
      "pm10Value 23\n",
      "pm10Value24 25\n",
      "pm25Value 15\n",
      "pm25Value24 16\n",
      "khaiValue 51\n",
      "khaiGrade 2\n",
      "so2Grade 1\n",
      "coGrade 1\n",
      "o3Grade 1\n",
      "no2Grade 1\n",
      "pm10Grade 1\n",
      "pm25Grade 2\n",
      "pm10Grade1h 1\n",
      "pm25Grade1h 1\n",
      "20\n",
      "dataTime 2018-07-16 02:00\n",
      "mangName 도시대기\n",
      "so2Value 0.002\n",
      "coValue 0.4\n",
      "o3Value 0.006\n",
      "no2Value 0.014\n",
      "pm10Value 21\n",
      "pm10Value24 26\n",
      "pm25Value 13\n",
      "pm25Value24 16\n",
      "khaiValue 51\n",
      "khaiGrade 2\n",
      "so2Grade 1\n",
      "coGrade 1\n",
      "o3Grade 1\n",
      "no2Grade 1\n",
      "pm10Grade 1\n",
      "pm25Grade 2\n",
      "pm10Grade1h 1\n",
      "pm25Grade1h 1\n"
     ]
    }
   ],
   "source": [
    "for item in items:\n",
    "    print(len(item))\n",
    "    for i in range(len(item)):\n",
    "        # tag 의 이름을 가져옴 , 값을 가져올때는 text \n",
    "        print(item[i].tag, item[i].text)"
   ]
  },
  {
   "cell_type": "code",
   "execution_count": 133,
   "metadata": {},
   "outputs": [],
   "source": [
    "pm10ValueList = xml.cssselect(\"item > pm10Value\")"
   ]
  },
  {
   "cell_type": "code",
   "execution_count": 134,
   "metadata": {},
   "outputs": [
    {
     "name": "stdout",
     "output_type": "stream",
     "text": [
      "pm10Value 29\n",
      "pm10Value 26\n",
      "pm10Value 35\n",
      "pm10Value 23\n",
      "pm10Value 17\n",
      "pm10Value 22\n",
      "pm10Value 19\n",
      "pm10Value 16\n",
      "pm10Value 23\n",
      "pm10Value 21\n"
     ]
    }
   ],
   "source": [
    "for row in pm10ValueList:\n",
    "    print(row.tag, row.text)"
   ]
  },
  {
   "cell_type": "code",
   "execution_count": null,
   "metadata": {},
   "outputs": [],
   "source": []
  }
 ],
 "metadata": {
  "kernelspec": {
   "display_name": "Python 3",
   "language": "python",
   "name": "python3"
  },
  "language_info": {
   "codemirror_mode": {
    "name": "ipython",
    "version": 3
   },
   "file_extension": ".py",
   "mimetype": "text/x-python",
   "name": "python",
   "nbconvert_exporter": "python",
   "pygments_lexer": "ipython3",
   "version": "3.6.6"
  }
 },
 "nbformat": 4,
 "nbformat_minor": 2
}
